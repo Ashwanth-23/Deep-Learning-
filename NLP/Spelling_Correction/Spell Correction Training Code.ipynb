{
 "cells": [
  {
   "cell_type": "markdown",
   "metadata": {},
   "source": [
    "### Spell Correction Usecase"
   ]
  },
  {
   "cell_type": "code",
   "execution_count": 1,
   "metadata": {},
   "outputs": [],
   "source": [
    "import matplotlib.pyplot as plt\n",
    "import numpy as np \n",
    "import pandas as pd \n",
    "import os"
   ]
  },
  {
   "cell_type": "code",
   "execution_count": 2,
   "metadata": {},
   "outputs": [],
   "source": [
    "# File loading\n",
    "df  = pd.read_csv('unigram_freq.csv')"
   ]
  },
  {
   "cell_type": "code",
   "execution_count": 3,
   "metadata": {},
   "outputs": [
    {
     "data": {
      "text/html": [
       "<div>\n",
       "<style scoped>\n",
       "    .dataframe tbody tr th:only-of-type {\n",
       "        vertical-align: middle;\n",
       "    }\n",
       "\n",
       "    .dataframe tbody tr th {\n",
       "        vertical-align: top;\n",
       "    }\n",
       "\n",
       "    .dataframe thead th {\n",
       "        text-align: right;\n",
       "    }\n",
       "</style>\n",
       "<table border=\"1\" class=\"dataframe\">\n",
       "  <thead>\n",
       "    <tr style=\"text-align: right;\">\n",
       "      <th></th>\n",
       "      <th>word</th>\n",
       "      <th>count</th>\n",
       "    </tr>\n",
       "  </thead>\n",
       "  <tbody>\n",
       "    <tr>\n",
       "      <th>0</th>\n",
       "      <td>the</td>\n",
       "      <td>23135851162</td>\n",
       "    </tr>\n",
       "    <tr>\n",
       "      <th>1</th>\n",
       "      <td>of</td>\n",
       "      <td>13151942776</td>\n",
       "    </tr>\n",
       "    <tr>\n",
       "      <th>2</th>\n",
       "      <td>and</td>\n",
       "      <td>12997637966</td>\n",
       "    </tr>\n",
       "    <tr>\n",
       "      <th>3</th>\n",
       "      <td>to</td>\n",
       "      <td>12136980858</td>\n",
       "    </tr>\n",
       "    <tr>\n",
       "      <th>4</th>\n",
       "      <td>a</td>\n",
       "      <td>9081174698</td>\n",
       "    </tr>\n",
       "    <tr>\n",
       "      <th>...</th>\n",
       "      <td>...</td>\n",
       "      <td>...</td>\n",
       "    </tr>\n",
       "    <tr>\n",
       "      <th>333328</th>\n",
       "      <td>gooek</td>\n",
       "      <td>12711</td>\n",
       "    </tr>\n",
       "    <tr>\n",
       "      <th>333329</th>\n",
       "      <td>gooddg</td>\n",
       "      <td>12711</td>\n",
       "    </tr>\n",
       "    <tr>\n",
       "      <th>333330</th>\n",
       "      <td>gooblle</td>\n",
       "      <td>12711</td>\n",
       "    </tr>\n",
       "    <tr>\n",
       "      <th>333331</th>\n",
       "      <td>gollgo</td>\n",
       "      <td>12711</td>\n",
       "    </tr>\n",
       "    <tr>\n",
       "      <th>333332</th>\n",
       "      <td>golgw</td>\n",
       "      <td>12711</td>\n",
       "    </tr>\n",
       "  </tbody>\n",
       "</table>\n",
       "<p>333333 rows × 2 columns</p>\n",
       "</div>"
      ],
      "text/plain": [
       "           word        count\n",
       "0           the  23135851162\n",
       "1            of  13151942776\n",
       "2           and  12997637966\n",
       "3            to  12136980858\n",
       "4             a   9081174698\n",
       "...         ...          ...\n",
       "333328    gooek        12711\n",
       "333329   gooddg        12711\n",
       "333330  gooblle        12711\n",
       "333331   gollgo        12711\n",
       "333332    golgw        12711\n",
       "\n",
       "[333333 rows x 2 columns]"
      ]
     },
     "execution_count": 3,
     "metadata": {},
     "output_type": "execute_result"
    }
   ],
   "source": [
    "df"
   ]
  },
  {
   "cell_type": "code",
   "execution_count": 4,
   "metadata": {},
   "outputs": [
    {
     "data": {
      "text/plain": [
       "0     the\n",
       "1      of\n",
       "2     and\n",
       "3      to\n",
       "4       a\n",
       "5      in\n",
       "6     for\n",
       "7      is\n",
       "8      on\n",
       "9    that\n",
       "Name: word, dtype: object"
      ]
     },
     "execution_count": 4,
     "metadata": {},
     "output_type": "execute_result"
    }
   ],
   "source": [
    "df[\"word\"][:10]"
   ]
  },
  {
   "cell_type": "code",
   "execution_count": 5,
   "metadata": {},
   "outputs": [],
   "source": [
    "import re"
   ]
  },
  {
   "cell_type": "code",
   "execution_count": 6,
   "metadata": {},
   "outputs": [],
   "source": [
    "re_special_char = \"[^a-z\\s]\""
   ]
  },
  {
   "cell_type": "code",
   "execution_count": 7,
   "metadata": {},
   "outputs": [],
   "source": [
    "def text_preprocessing(word):\n",
    "    word = str(word)\n",
    "    #Normalizing the case \n",
    "    word = word.lower()\n",
    "    #Removal of special characters\n",
    "    word = re.sub(re_special_char,\"\", word)\n",
    "    return word"
   ]
  },
  {
   "cell_type": "code",
   "execution_count": 8,
   "metadata": {},
   "outputs": [],
   "source": [
    "df[\"word\"] = df[\"word\"].apply(text_preprocessing)"
   ]
  },
  {
   "cell_type": "code",
   "execution_count": 9,
   "metadata": {},
   "outputs": [
    {
     "data": {
      "text/plain": [
       "0             the\n",
       "1              of\n",
       "2             and\n",
       "3              to\n",
       "4               a\n",
       "           ...   \n",
       "333328      gooek\n",
       "333329     gooddg\n",
       "333330    gooblle\n",
       "333331     gollgo\n",
       "333332      golgw\n",
       "Name: word, Length: 333333, dtype: object"
      ]
     },
     "execution_count": 9,
     "metadata": {},
     "output_type": "execute_result"
    }
   ],
   "source": [
    "df[\"word\"]"
   ]
  },
  {
   "cell_type": "code",
   "execution_count": 10,
   "metadata": {},
   "outputs": [],
   "source": [
    "# Creating a list of characters -- which indicates each character is a feature\n",
    "chars = list(\" abcdefghijklmnopqrstuvwxyz\")"
   ]
  },
  {
   "cell_type": "code",
   "execution_count": 11,
   "metadata": {
    "scrolled": true
   },
   "outputs": [
    {
     "data": {
      "text/plain": [
       "[' ',\n",
       " 'a',\n",
       " 'b',\n",
       " 'c',\n",
       " 'd',\n",
       " 'e',\n",
       " 'f',\n",
       " 'g',\n",
       " 'h',\n",
       " 'i',\n",
       " 'j',\n",
       " 'k',\n",
       " 'l',\n",
       " 'm',\n",
       " 'n',\n",
       " 'o',\n",
       " 'p',\n",
       " 'q',\n",
       " 'r',\n",
       " 's',\n",
       " 't',\n",
       " 'u',\n",
       " 'v',\n",
       " 'w',\n",
       " 'x',\n",
       " 'y',\n",
       " 'z']"
      ]
     },
     "execution_count": 11,
     "metadata": {},
     "output_type": "execute_result"
    }
   ],
   "source": [
    "chars"
   ]
  },
  {
   "cell_type": "code",
   "execution_count": null,
   "metadata": {},
   "outputs": [],
   "source": []
  },
  {
   "cell_type": "code",
   "execution_count": 12,
   "metadata": {},
   "outputs": [],
   "source": [
    "# Creating two dictionaries to map characters to token \n",
    "char_to_pos = {} #here key is character, value is token\n",
    "pos_to_char = {} #here key is token, value is character"
   ]
  },
  {
   "cell_type": "code",
   "execution_count": 13,
   "metadata": {},
   "outputs": [],
   "source": [
    "#Running a for loop to assign tokens to each character\n",
    "for i,each_char in enumerate(chars):\n",
    "#     print(i,each_char)\n",
    "      char_to_pos[each_char] = i\n",
    "      pos_to_char[i] = each_char"
   ]
  },
  {
   "cell_type": "code",
   "execution_count": 14,
   "metadata": {},
   "outputs": [
    {
     "data": {
      "text/plain": [
       "{' ': 0,\n",
       " 'a': 1,\n",
       " 'b': 2,\n",
       " 'c': 3,\n",
       " 'd': 4,\n",
       " 'e': 5,\n",
       " 'f': 6,\n",
       " 'g': 7,\n",
       " 'h': 8,\n",
       " 'i': 9,\n",
       " 'j': 10,\n",
       " 'k': 11,\n",
       " 'l': 12,\n",
       " 'm': 13,\n",
       " 'n': 14,\n",
       " 'o': 15,\n",
       " 'p': 16,\n",
       " 'q': 17,\n",
       " 'r': 18,\n",
       " 's': 19,\n",
       " 't': 20,\n",
       " 'u': 21,\n",
       " 'v': 22,\n",
       " 'w': 23,\n",
       " 'x': 24,\n",
       " 'y': 25,\n",
       " 'z': 26}"
      ]
     },
     "execution_count": 14,
     "metadata": {},
     "output_type": "execute_result"
    }
   ],
   "source": [
    "char_to_pos"
   ]
  },
  {
   "cell_type": "code",
   "execution_count": 15,
   "metadata": {
    "scrolled": true
   },
   "outputs": [
    {
     "data": {
      "text/plain": [
       "{0: ' ',\n",
       " 1: 'a',\n",
       " 2: 'b',\n",
       " 3: 'c',\n",
       " 4: 'd',\n",
       " 5: 'e',\n",
       " 6: 'f',\n",
       " 7: 'g',\n",
       " 8: 'h',\n",
       " 9: 'i',\n",
       " 10: 'j',\n",
       " 11: 'k',\n",
       " 12: 'l',\n",
       " 13: 'm',\n",
       " 14: 'n',\n",
       " 15: 'o',\n",
       " 16: 'p',\n",
       " 17: 'q',\n",
       " 18: 'r',\n",
       " 19: 's',\n",
       " 20: 't',\n",
       " 21: 'u',\n",
       " 22: 'v',\n",
       " 23: 'w',\n",
       " 24: 'x',\n",
       " 25: 'y',\n",
       " 26: 'z'}"
      ]
     },
     "execution_count": 15,
     "metadata": {},
     "output_type": "execute_result"
    }
   ],
   "source": [
    "pos_to_char"
   ]
  },
  {
   "cell_type": "code",
   "execution_count": 16,
   "metadata": {},
   "outputs": [],
   "source": [
    "#getting the total length of characters\n",
    "count = len(chars)"
   ]
  },
  {
   "cell_type": "code",
   "execution_count": 17,
   "metadata": {},
   "outputs": [
    {
     "data": {
      "text/plain": [
       "27"
      ]
     },
     "execution_count": 17,
     "metadata": {},
     "output_type": "execute_result"
    }
   ],
   "source": [
    "count"
   ]
  },
  {
   "cell_type": "code",
   "execution_count": 18,
   "metadata": {},
   "outputs": [
    {
     "data": {
      "text/plain": [
       "[' ',\n",
       " 'a',\n",
       " 'b',\n",
       " 'c',\n",
       " 'd',\n",
       " 'e',\n",
       " 'f',\n",
       " 'g',\n",
       " 'h',\n",
       " 'i',\n",
       " 'j',\n",
       " 'k',\n",
       " 'l',\n",
       " 'm',\n",
       " 'n',\n",
       " 'o',\n",
       " 'p',\n",
       " 'q',\n",
       " 'r',\n",
       " 's',\n",
       " 't',\n",
       " 'u',\n",
       " 'v',\n",
       " 'w',\n",
       " 'x',\n",
       " 'y',\n",
       " 'z']"
      ]
     },
     "execution_count": 18,
     "metadata": {},
     "output_type": "execute_result"
    }
   ],
   "source": [
    "chars"
   ]
  },
  {
   "cell_type": "markdown",
   "metadata": {},
   "source": []
  },
  {
   "cell_type": "code",
   "execution_count": 19,
   "metadata": {},
   "outputs": [],
   "source": [
    "#SOS -- Start of sentence\n",
    "#EOS -- End of sentence\n",
    "\n",
    "#The SOS (\"\\t\") and EOS (\"\\n\") these markers help the model learn when to start and stop generating text. \n",
    "\n",
    "\n",
    "sos = \"\\t\"\n",
    "eos = \"\\n\""
   ]
  },
  {
   "cell_type": "code",
   "execution_count": 20,
   "metadata": {},
   "outputs": [],
   "source": [
    "dec_codes = [\"\\t\",\"\\n\"]"
   ]
  },
  {
   "cell_type": "code",
   "execution_count": 21,
   "metadata": {},
   "outputs": [],
   "source": [
    "# In the dict we don't have the tokens for SOS and EOS, so updating the dictionary\n",
    "\n",
    "# We are adding the SOS and EOS markers separately because they are not part of the main character list used for encoding text.\n",
    "\n",
    "for each_char in dec_codes:\n",
    "    char_to_pos[each_char] = count\n",
    "    pos_to_char[count] = each_char\n",
    "    count = count+1"
   ]
  },
  {
   "cell_type": "code",
   "execution_count": 22,
   "metadata": {},
   "outputs": [
    {
     "name": "stdout",
     "output_type": "stream",
     "text": [
      "{' ': 0, 'a': 1, 'b': 2, 'c': 3, 'd': 4, 'e': 5, 'f': 6, 'g': 7, 'h': 8, 'i': 9, 'j': 10, 'k': 11, 'l': 12, 'm': 13, 'n': 14, 'o': 15, 'p': 16, 'q': 17, 'r': 18, 's': 19, 't': 20, 'u': 21, 'v': 22, 'w': 23, 'x': 24, 'y': 25, 'z': 26, '\\t': 27, '\\n': 28}\n"
     ]
    }
   ],
   "source": [
    "print(char_to_pos)"
   ]
  },
  {
   "cell_type": "code",
   "execution_count": 23,
   "metadata": {},
   "outputs": [
    {
     "name": "stdout",
     "output_type": "stream",
     "text": [
      "{0: ' ', 1: 'a', 2: 'b', 3: 'c', 4: 'd', 5: 'e', 6: 'f', 7: 'g', 8: 'h', 9: 'i', 10: 'j', 11: 'k', 12: 'l', 13: 'm', 14: 'n', 15: 'o', 16: 'p', 17: 'q', 18: 'r', 19: 's', 20: 't', 21: 'u', 22: 'v', 23: 'w', 24: 'x', 25: 'y', 26: 'z', 27: '\\t', 28: '\\n'}\n"
     ]
    }
   ],
   "source": [
    "print(pos_to_char)"
   ]
  },
  {
   "cell_type": "code",
   "execution_count": 24,
   "metadata": {
    "scrolled": true
   },
   "outputs": [
    {
     "data": {
      "text/plain": [
       "0             the\n",
       "1              of\n",
       "2             and\n",
       "3              to\n",
       "4               a\n",
       "           ...   \n",
       "333328      gooek\n",
       "333329     gooddg\n",
       "333330    gooblle\n",
       "333331     gollgo\n",
       "333332      golgw\n",
       "Name: word, Length: 333333, dtype: object"
      ]
     },
     "execution_count": 24,
     "metadata": {},
     "output_type": "execute_result"
    }
   ],
   "source": [
    "df[\"word\"]"
   ]
  },
  {
   "cell_type": "markdown",
   "metadata": {},
   "source": [
    "--------------"
   ]
  },
  {
   "cell_type": "markdown",
   "metadata": {},
   "source": [
    "### Generate the dataset"
   ]
  },
  {
   "cell_type": "code",
   "execution_count": 25,
   "metadata": {},
   "outputs": [],
   "source": [
    "import random"
   ]
  },
  {
   "cell_type": "markdown",
   "metadata": {},
   "source": [
    "The `gen_wrong_spell` function is used to generate misspelled versions of words. It takes a word as input and randomly chooses one of three operations to perform:\n",
    "\n",
    "\n",
    "* Delete a random character from the word.\n",
    "* Add a random character at a random position in the word.\n",
    "* Replace a random character in the word with another random character.\n",
    "\n",
    "\n",
    "The function first generates a random number (rand_val) between 0 and 9. Based on the value of rand_val, it decides which operation to perform. \n",
    "\n",
    "If rand_val is less than 3, it deletes a random character from the word. Which indicates we are generating 30% of data with this pattern.\n",
    "\n",
    "If rand_val is between 3 and 5, it adds a random character at a random position. Which indicates we are generating 30% of data with this pattern.\n",
    "\n",
    "Otherwise, it replaces a random character with another random character. Which indicates we are generating 40% of data with this pattern.\n",
    "\n",
    "The function then returns the modified word as the result. This function is used to create a dataset with both correct and incorrect spellings for training a spell checking or correction model."
   ]
  },
  {
   "cell_type": "code",
   "execution_count": 26,
   "metadata": {},
   "outputs": [],
   "source": [
    "s = \"price\""
   ]
  },
  {
   "cell_type": "code",
   "execution_count": 27,
   "metadata": {},
   "outputs": [],
   "source": [
    "index1 = random.randrange(0,len(s)+1)"
   ]
  },
  {
   "cell_type": "code",
   "execution_count": 28,
   "metadata": {},
   "outputs": [
    {
     "data": {
      "text/plain": [
       "3"
      ]
     },
     "execution_count": 28,
     "metadata": {},
     "output_type": "execute_result"
    }
   ],
   "source": [
    "index1"
   ]
  },
  {
   "cell_type": "code",
   "execution_count": 29,
   "metadata": {},
   "outputs": [],
   "source": [
    "char_r = random.choice(chars)"
   ]
  },
  {
   "cell_type": "code",
   "execution_count": 30,
   "metadata": {},
   "outputs": [
    {
     "data": {
      "text/plain": [
       "'h'"
      ]
     },
     "execution_count": 30,
     "metadata": {},
     "output_type": "execute_result"
    }
   ],
   "source": [
    "char_r"
   ]
  },
  {
   "cell_type": "code",
   "execution_count": 31,
   "metadata": {},
   "outputs": [
    {
     "data": {
      "text/plain": [
       "'price'"
      ]
     },
     "execution_count": 31,
     "metadata": {},
     "output_type": "execute_result"
    }
   ],
   "source": [
    "s"
   ]
  },
  {
   "cell_type": "code",
   "execution_count": 32,
   "metadata": {},
   "outputs": [
    {
     "data": {
      "text/plain": [
       "'prihe'"
      ]
     },
     "execution_count": 32,
     "metadata": {},
     "output_type": "execute_result"
    }
   ],
   "source": [
    "s[:index1] + char_r + s[index1+1:] "
   ]
  },
  {
   "cell_type": "code",
   "execution_count": 33,
   "metadata": {},
   "outputs": [],
   "source": [
    "#1. delete a random character\n",
    "def gen_wrong_spell(word):\n",
    "    rand_val = random.randrange(0,10)\n",
    "    if rand_val < 3:\n",
    "        #Delete random character\n",
    "        #generating random index for deleting random character\n",
    "        del_index = random.randrange(0,len(word))\n",
    "        result = word[:del_index]+word[del_index+1:]\n",
    "    elif rand_val>=3 and rand_val <=5:\n",
    "        #Add random character\n",
    "        #generating random index for adding random character\n",
    "        add_index = random.randrange(0,len(word)+1)\n",
    "        #chosing randon character from list of chars\n",
    "        rand_char = random.choice(chars)\n",
    "        #Adding random character\n",
    "        result = word[:add_index] + rand_char + word[add_index:]\n",
    "    else:\n",
    "        #replace a random character with other\n",
    "        \n",
    "        #generating random index for replacing random charact\n",
    "        replace_index = random.randrange(0,len(word))\n",
    "        #chosing randon character from list of chars\n",
    "        rand_char = random.choice(chars)\n",
    "        result = word[:replace_index] + rand_char + word[replace_index+1:]\n",
    "    return result"
   ]
  },
  {
   "cell_type": "code",
   "execution_count": 34,
   "metadata": {},
   "outputs": [
    {
     "data": {
      "text/plain": [
       "'pricp'"
      ]
     },
     "execution_count": 34,
     "metadata": {},
     "output_type": "execute_result"
    }
   ],
   "source": [
    "gen_wrong_spell(\"price\")"
   ]
  },
  {
   "cell_type": "code",
   "execution_count": 35,
   "metadata": {},
   "outputs": [],
   "source": [
    "input_data = []\n",
    "output_data = []"
   ]
  },
  {
   "cell_type": "code",
   "execution_count": 36,
   "metadata": {},
   "outputs": [],
   "source": [
    "import tqdm"
   ]
  },
  {
   "cell_type": "code",
   "execution_count": 37,
   "metadata": {},
   "outputs": [
    {
     "name": "stderr",
     "output_type": "stream",
     "text": [
      "100%|██████████████████████████████████████████████████████████████████████| 333333/333333 [00:01<00:00, 204451.96it/s]\n"
     ]
    }
   ],
   "source": [
    "# Generating input and output data for the model\n",
    "\n",
    "for each_word in tqdm.tqdm(df[\"word\"]):  # Iterate over each word in the DataFrame column \"word\"\n",
    "    rand_val = random.randrange(0,10)  # Generate a random number between 0 and 9\n",
    "    \n",
    "    #here are only generating the misspelled words for words with length more than 3\n",
    "    #60% of the time we are generating misspelled version of the word\n",
    "    if rand_val < 6 and len(each_word) > 3:  \n",
    "        wrong_spell = gen_wrong_spell(each_word)  # Generate a misspelled version of the word\n",
    "        # Append the misspelled word to the input data list\n",
    "        input_data.append(wrong_spell)  \n",
    "         # Append the correct word with SOS and EOS markers to the output data list\n",
    "        output_data.append(sos + each_word + eos) \n",
    "    elif len(each_word) > 3:  # If the word length is greater than 3, this is for one to one mapping\n",
    "        # Append the word to the input data list\n",
    "        input_data.append(each_word)  \n",
    "         # Append the word with SOS and EOS markers to the output data list\n",
    "        output_data.append(sos + each_word + eos) "
   ]
  },
  {
   "cell_type": "code",
   "execution_count": 38,
   "metadata": {},
   "outputs": [
    {
     "data": {
      "text/plain": [
       "['tha',\n",
       " 'his',\n",
       " 'wit',\n",
       " 'frok',\n",
       " 'your',\n",
       " 'havq',\n",
       " 'gmore',\n",
       " 'will',\n",
       " 'hxome',\n",
       " 'pabout',\n",
       " 'pag ',\n",
       " 'serch',\n",
       " 'free',\n",
       " 'other',\n",
       " 'inforkation',\n",
       " 'kime',\n",
       " 'tdey',\n",
       " 'sit',\n",
       " 'what',\n",
       " 'whiyh',\n",
       " 'their',\n",
       " 'news',\n",
       " 'tzere',\n",
       " 'only',\n",
       " 'when',\n",
       " 'contct',\n",
       " 'hre',\n",
       " 'buiness',\n",
       " 'klso',\n",
       " 'help',\n",
       " 'vfew',\n",
       " 'ofline',\n",
       " 'first',\n",
       " 'been',\n",
       " 'would',\n",
       " 'were',\n",
       " 'services',\n",
       " 'sole',\n",
       " 'theze',\n",
       " 'clik',\n",
       " 'like',\n",
       " 'secrvice',\n",
       " 'than',\n",
       " 'fcnd',\n",
       " 'price',\n",
       " 'datne',\n",
       " 'ack',\n",
       " 'peopbe',\n",
       " 'liwst',\n",
       " 'name',\n",
       " 'vust',\n",
       " 'ovyer',\n",
       " 'state',\n",
       " 'yeapr',\n",
       " 'nto',\n",
       " 'email',\n",
       " 'helth',\n",
       " 'world',\n",
       " 'next',\n",
       " 'msed',\n",
       " 'wyrk',\n",
       " 'ljast',\n",
       " 'mlst',\n",
       " 'producvs',\n",
       " 'music',\n",
       " 'datta',\n",
       " 'makg',\n",
       " 'thef',\n",
       " 'should',\n",
       " 'prduct',\n",
       " 'sysem',\n",
       " 'poyt',\n",
       " 'citb',\n",
       " 'policy',\n",
       " 'umber',\n",
       " 'such',\n",
       " 'paease',\n",
       " 'availafble',\n",
       " 'copyrigkht',\n",
       " 'support',\n",
       " 'message',\n",
       " 'after',\n",
       " 'beyt',\n",
       " 'software',\n",
       " 'zthen',\n",
       " 'good',\n",
       " 'video',\n",
       " 'well',\n",
       " 'here',\n",
       " 'info',\n",
       " 'rghts',\n",
       " 'tublic',\n",
       " 'book',\n",
       " 'high',\n",
       " 'scpool',\n",
       " 'trough',\n",
       " 'gach',\n",
       " 'links',\n",
       " 'review',\n",
       " 'yeas',\n",
       " 'orde',\n",
       " 'very',\n",
       " 'rivacy',\n",
       " 'book',\n",
       " 'items',\n",
       " 'compny',\n",
       " 'rgad',\n",
       " 'grop',\n",
       " 'need',\n",
       " 'mny',\n",
       " 'zser',\n",
       " 'gsaid',\n",
       " 'daoes',\n",
       " 'under',\n",
       " 'genneral',\n",
       " 'research',\n",
       " 'university',\n",
       " 'january',\n",
       " 'm il',\n",
       " 'full',\n",
       " 'reviiws',\n",
       " 'prorgram',\n",
       " 'rife',\n",
       " 'kno',\n",
       " 'games',\n",
       " 'gdays',\n",
       " 'manawement',\n",
       " 'parg',\n",
       " 'coul',\n",
       " 'gret',\n",
       " 'united',\n",
       " 'hotl',\n",
       " 'real',\n",
       " 'ctem',\n",
       " 'inteynational',\n",
       " 'ceiter',\n",
       " 'eay',\n",
       " 'ust',\n",
       " 'stre',\n",
       " 'travvel',\n",
       " 'tomments',\n",
       " 'made',\n",
       " 'ydevelopment',\n",
       " 'reptrt',\n",
       " 'member',\n",
       " 'details',\n",
       " 'liwe',\n",
       " 'terms',\n",
       " 'before',\n",
       " 'hatels',\n",
       " 'send',\n",
       " 'righs',\n",
       " 'ype',\n",
       " 'becase',\n",
       " 'lcal',\n",
       " 'zthose',\n",
       " 'vusing',\n",
       " 'results',\n",
       " 'office',\n",
       " 'eduxcation',\n",
       " 'nationall',\n",
       " 'designo',\n",
       " 'lake',\n",
       " 'posted',\n",
       " 'interneb',\n",
       " 'addressm',\n",
       " 'community',\n",
       " 'kithin',\n",
       " 'stateps',\n",
       " 'rea',\n",
       " 'want',\n",
       " 'pone',\n",
       " 'shinping',\n",
       " 'reserved',\n",
       " 'subject',\n",
       " 'between',\n",
       " 'fxorum',\n",
       " 'faily',\n",
       " 'long',\n",
       " 'baed',\n",
       " 'cose',\n",
       " 'shof',\n",
       " 'ven',\n",
       " 'blak',\n",
       " 'check',\n",
       " 'spyecial',\n",
       " 'prices',\n",
       " 'website',\n",
       " 'intex',\n",
       " 'being',\n",
       " 'wome ',\n",
       " 'uch',\n",
       " 'sign',\n",
       " 'fple',\n",
       " 'link',\n",
       " 'kpen',\n",
       " 'today',\n",
       " 'technology',\n",
       " 'soth',\n",
       " 'case',\n",
       " 'preject',\n",
       " 'same',\n",
       " 'pages',\n",
       " 'vpersion',\n",
       " 'ssection',\n",
       " 'found',\n",
       " 'sports',\n",
       " 'house',\n",
       " 'rhlated',\n",
       " 'nsecurity',\n",
       " 'bo th',\n",
       " 'couny',\n",
       " 'iamerican',\n",
       " 'pjoto',\n",
       " 'game',\n",
       " 'members',\n",
       " 'power',\n",
       " 'wheile',\n",
       " 'care',\n",
       " 'netweork',\n",
       " 'down',\n",
       " 'comuuter',\n",
       " 'sxstems',\n",
       " 'three',\n",
       " 'total',\n",
       " 'pace',\n",
       " 'following',\n",
       " 'downlboad',\n",
       " 'without',\n",
       " 'access',\n",
       " 'thin',\n",
       " 'nortq',\n",
       " 'restources',\n",
       " 'curyrent',\n",
       " 'p osts',\n",
       " 'medxa',\n",
       " 'control',\n",
       " 'wter',\n",
       " 'history',\n",
       " 'piztures',\n",
       " 'sizb',\n",
       " 'persoal',\n",
       " 'sincje',\n",
       " 'ncluding',\n",
       " 'guidei',\n",
       " 'shp',\n",
       " 'directoqy',\n",
       " 'boiard',\n",
       " 'location',\n",
       " 'chnge',\n",
       " 'whte',\n",
       " 'txt',\n",
       " 'small',\n",
       " 'rating',\n",
       " 'raze',\n",
       " 'governmenq',\n",
       " 'childrmen',\n",
       " 'durinqg',\n",
       " 'return',\n",
       " 'students',\n",
       " 'shoppng',\n",
       " 'accognt',\n",
       " 'timesv',\n",
       " 'sitet',\n",
       " 'levexl',\n",
       " 'digital',\n",
       " 'profije',\n",
       " 'preious',\n",
       " 'form',\n",
       " 'events',\n",
       " 'love',\n",
       " 'john',\n",
       " 'main',\n",
       " 'cill',\n",
       " 'hours',\n",
       " 'image',\n",
       " 'depaqtment',\n",
       " 'title',\n",
       " 'description',\n",
       " 'insurance',\n",
       " 'another',\n",
       " 'shal',\n",
       " 'propery',\n",
       " 'clas',\n",
       " 'still',\n",
       " 'movney',\n",
       " 'qualimy',\n",
       " 'every',\n",
       " 'lislting',\n",
       " 'jcontent',\n",
       " 'country',\n",
       " 'pdrivate',\n",
       " 'littl',\n",
       " 'visit',\n",
       " 'save',\n",
       " 'tfools',\n",
       " 'repl',\n",
       " 'cusgtomer',\n",
       " 'december',\n",
       " 'compare',\n",
       " 'moves',\n",
       " 'inlude',\n",
       " 'colxege',\n",
       " 'valye',\n",
       " 'art cle',\n",
       " 'york',\n",
       " 'camd',\n",
       " 'jobq',\n",
       " 'hrovide',\n",
       " 'food',\n",
       " 'source',\n",
       " 'autkhor',\n",
       " 'different',\n",
       " 'gress',\n",
       " 'learn',\n",
       " 'sjale',\n",
       " 'around',\n",
       " 'prient',\n",
       " 'nourse',\n",
       " 'cana a',\n",
       " 'proess',\n",
       " 'teen',\n",
       " 'roobm',\n",
       " 'stock',\n",
       " 'training',\n",
       " 'credit',\n",
       " 'point',\n",
       " 'boin',\n",
       " 'sciece',\n",
       " 'categories',\n",
       " 'advanced',\n",
       " 'west',\n",
       " 'salese',\n",
       " 'lozk',\n",
       " 'englsh',\n",
       " 'left',\n",
       " 'team',\n",
       " 'ertate',\n",
       " 'condition',\n",
       " 'salect',\n",
       " 'wndows',\n",
       " 'phetos',\n",
       " 'thread',\n",
       " 'week',\n",
       " 'categnry',\n",
       " 'note',\n",
       " 'ltve',\n",
       " 'lage',\n",
       " 'gcllery',\n",
       " 'table',\n",
       " 'register',\n",
       " 'howeve',\n",
       " 'june',\n",
       " 'pctober',\n",
       " 'npvember',\n",
       " 'narket',\n",
       " 'library',\n",
       " 'reall',\n",
       " 'acton',\n",
       " 'star',\n",
       " 'sedies',\n",
       " 'mo del',\n",
       " 'features',\n",
       " 'indusry',\n",
       " 'pan',\n",
       " 'human',\n",
       " 'provided',\n",
       " 'roquired',\n",
       " 'secod',\n",
       " 'accessorues',\n",
       " 'eost',\n",
       " 'movie',\n",
       " 'forums',\n",
       " 'marchh',\n",
       " 'seputember',\n",
       " 'better',\n",
       " 'questons',\n",
       " ' uly',\n",
       " 'yatoo',\n",
       " 'goin',\n",
       " 'medical',\n",
       " 'tesvt',\n",
       " 'fgiend',\n",
       " 'coml',\n",
       " 'server',\n",
       " 'stud',\n",
       " 'application',\n",
       " 'cart',\n",
       " ' staff',\n",
       " 'articlew',\n",
       " 'feedbacbk',\n",
       " 'agan',\n",
       " 'tlay',\n",
       " 'looking',\n",
       " 'issuels',\n",
       " 'april',\n",
       " 'never',\n",
       " 'sers',\n",
       " 'complte',\n",
       " 'street',\n",
       " 'topc',\n",
       " 'comment',\n",
       " 'fiancial',\n",
       " 'thing',\n",
       " 'woring',\n",
       " 'against',\n",
       " 'standrd',\n",
       " 'peson',\n",
       " 'below',\n",
       " 'mobile',\n",
       " 'hess',\n",
       " 'blo',\n",
       " 'party',\n",
       " 'payent',\n",
       " 'eqoipment',\n",
       " 'logmn',\n",
       " 'stpdent',\n",
       " 'programs',\n",
       " 'offers',\n",
       " 'legal',\n",
       " 'above',\n",
       " 'recent',\n",
       " 'pafk',\n",
       " 'stores',\n",
       " 'sirde',\n",
       " 'problem',\n",
       " 'givv',\n",
       " 'mmory',\n",
       " 'performace',\n",
       " 'social',\n",
       " 'august',\n",
       " 'quote',\n",
       " 'languagfe',\n",
       " 'story',\n",
       " 'sell',\n",
       " 'optionsz',\n",
       " 'experience',\n",
       " 'ratez',\n",
       " 'creqte',\n",
       " 'xody',\n",
       " 'yjung',\n",
       " 'vamerica',\n",
       " 'important',\n",
       " 'fild',\n",
       " 'east',\n",
       " 'paper',\n",
       " 'sjingle',\n",
       " 'activities',\n",
       " 'clpub',\n",
       " 'examkple',\n",
       " 'girls',\n",
       " 'aditional',\n",
       " 'passwor',\n",
       " 'latest',\n",
       " 'ssomething',\n",
       " 'road',\n",
       " 'git',\n",
       " 'question',\n",
       " 'cnanges',\n",
       " 'nght',\n",
       " 'harq',\n",
       " 'texaw',\n",
       " 'fouro',\n",
       " 'pokef',\n",
       " 'status',\n",
       " 'browse',\n",
       " 'issueo',\n",
       " 'ranlge',\n",
       " 'brilding',\n",
       " 'selmler',\n",
       " 'court',\n",
       " 'february',\n",
       " ' lways',\n",
       " 'reult',\n",
       " 'audion',\n",
       " 'yight',\n",
       " 'write',\n",
       " 'effer',\n",
       " 'bue',\n",
       " 'groups',\n",
       " 'eaqy',\n",
       " 'given',\n",
       " 'files',\n",
       " 'event',\n",
       " 'releae',\n",
       " 'anaxysis',\n",
       " 'request',\n",
       " 'china',\n",
       " 'makbing',\n",
       " 'picture',\n",
       " 'needs',\n",
       " 'possipble',\n",
       " 'might',\n",
       " 'professinal',\n",
       " 'month',\n",
       " 'mjor',\n",
       " 'sar',\n",
       " 'areas',\n",
       " 'future',\n",
       " 'space',\n",
       " 'committe',\n",
       " 'hand',\n",
       " 'caqds',\n",
       " 'problems',\n",
       " 'ondon',\n",
       " 'washingto',\n",
       " 'meeoing',\n",
       " 'beome',\n",
       " 'interest',\n",
       " 'ctild',\n",
       " 'keep',\n",
       " 'eyter',\n",
       " 'california',\n",
       " 'pon',\n",
       " 'share',\n",
       " 'simiar',\n",
       " 'ga den',\n",
       " 'uchools',\n",
       " 'milliono',\n",
       " 'afded',\n",
       " 'reflerence',\n",
       " 'companies',\n",
       " 'listed',\n",
       " 'bay',\n",
       " 'learnivg',\n",
       " 'eqnergy',\n",
       " 'delivery',\n",
       " 'ppular',\n",
       " 'rterm',\n",
       " 'filf',\n",
       " 'stories',\n",
       " 'qomputers',\n",
       " 'journfal',\n",
       " 'reporta',\n",
       " 'weilcome',\n",
       " 'cetral',\n",
       " 'images',\n",
       " 'presidet',\n",
       " 'ngtice',\n",
       " 'original',\n",
       " 'heawd',\n",
       " 'radlo',\n",
       " 'uxntil',\n",
       " 'cell',\n",
       " 'colox',\n",
       " 'selfm',\n",
       " 'counciv',\n",
       " 'away',\n",
       " 'ncludes',\n",
       " 'trackv',\n",
       " 'austrtlia',\n",
       " 'discussion',\n",
       " 'archiver',\n",
       " 'nce',\n",
       " 'othrs',\n",
       " 'entertainment',\n",
       " 'agreeent',\n",
       " 'fhormat',\n",
       " 'lehast',\n",
       " 'socety',\n",
       " 'months',\n",
       " 'safety',\n",
       " 'frends',\n",
       " 'sur',\n",
       " 'trase',\n",
       " 'edition',\n",
       " 'cars',\n",
       " 'mesages',\n",
       " 'marketinhg',\n",
       " 'tell',\n",
       " 'further',\n",
       " 'update',\n",
       " 'assdociation',\n",
       " 'able',\n",
       " 'havijng',\n",
       " 'provides',\n",
       " 'qavid',\n",
       " 'alreay',\n",
       " 'jreen',\n",
       " 'stuyies',\n",
       " 'cnlose',\n",
       " 'common',\n",
       " 'drive',\n",
       " 'specifinc',\n",
       " 'several',\n",
       " 'gold',\n",
       " 'livingh',\n",
       " 'collection',\n",
       " 'calledt',\n",
       " 'shorn',\n",
       " 'arkts',\n",
       " 'display',\n",
       " 'limited',\n",
       " 'powered',\n",
       " 'solctions',\n",
       " 'means',\n",
       " 'director',\n",
       " 'daily',\n",
       " 'beach',\n",
       " 'past',\n",
       " 'natral',\n",
       " 'whedher',\n",
       " 'electronics',\n",
       " 'ive',\n",
       " 'uon',\n",
       " 'period',\n",
       " 'planning',\n",
       " 'ratabase',\n",
       " 'says',\n",
       " 'official',\n",
       " 'weather',\n",
       " 'lad',\n",
       " 'average',\n",
       " 'duone',\n",
       " 'gtechnical',\n",
       " 'window',\n",
       " 'frace',\n",
       " 'rgion',\n",
       " 'sland',\n",
       " 'record',\n",
       " 'direct',\n",
       " 'micnosoft',\n",
       " 'cnference',\n",
       " 'environment',\n",
       " 'repcords',\n",
       " 'district',\n",
       " 'calendar',\n",
       " 'cdsts',\n",
       " 'stle',\n",
       " 'ront',\n",
       " 'statement',\n",
       " 'upxate',\n",
       " 'partrs',\n",
       " 'evir',\n",
       " 'downloads',\n",
       " 'eary',\n",
       " 'milesl',\n",
       " 'soumnd',\n",
       " 'resource',\n",
       " 'present',\n",
       " 'hpplications',\n",
       " 'eithee',\n",
       " 'ducument',\n",
       " 'word',\n",
       " 'workq',\n",
       " 'material',\n",
       " 'bill',\n",
       " 'written',\n",
       " 'tal',\n",
       " 'feeral',\n",
       " 'hosxing',\n",
       " 'ruleds',\n",
       " 'finaal',\n",
       " 'adult',\n",
       " 'rickets',\n",
       " 'thing',\n",
       " 'centre',\n",
       " 'jrequirements',\n",
       " 'cheap',\n",
       " 'nude',\n",
       " 'kidf',\n",
       " 'xfinance',\n",
       " 'trmue',\n",
       " 'minutes',\n",
       " 'else',\n",
       " 'mark',\n",
       " 'tird',\n",
       " 'rock',\n",
       " 'gfts',\n",
       " 'erope',\n",
       " 'rvading',\n",
       " 'topics',\n",
       " 'individual',\n",
       " 'uips',\n",
       " 'plus',\n",
       " 'auto',\n",
       " 'cover',\n",
       " 'usually',\n",
       " 'edat',\n",
       " 'together',\n",
       " 'videos',\n",
       " 'percent',\n",
       " 'ftst',\n",
       " 'fungtion',\n",
       " 'fact',\n",
       " 'unit',\n",
       " 'gektting',\n",
       " 'gloal',\n",
       " 'tecp',\n",
       " 'meet',\n",
       " 'economic',\n",
       " 'player',\n",
       " 'pdojects',\n",
       " 'lyrics',\n",
       " 'soften',\n",
       " 'subscsibe',\n",
       " 'sumit',\n",
       " 'gerbmany',\n",
       " 'amount',\n",
       " 'watch',\n",
       " 'included',\n",
       " 'fnel',\n",
       " 'tough',\n",
       " 'ban ',\n",
       " 'nisk',\n",
       " 'hanks',\n",
       " 'everything',\n",
       " 'dealb',\n",
       " 'varicous',\n",
       " 'words',\n",
       " 'linx',\n",
       " 'poduction',\n",
       " 'commercial',\n",
       " 'james',\n",
       " 'weigh ',\n",
       " 'towz',\n",
       " 'hearet',\n",
       " 'advertisang',\n",
       " 'rceived',\n",
       " 'choore',\n",
       " 'treatmenj',\n",
       " 'newsletter',\n",
       " 'archives',\n",
       " 'wpoints',\n",
       " 'khnowledge',\n",
       " 'magazine',\n",
       " 'ebrror',\n",
       " 'camera',\n",
       " 'girl',\n",
       " 'currently',\n",
       " 'cfnstruction',\n",
       " 'toys',\n",
       " 'regstered',\n",
       " 'clqear',\n",
       " 'olf',\n",
       " 'rezceive',\n",
       " 'domai',\n",
       " 'methfds',\n",
       " 'chapter',\n",
       " 'make',\n",
       " 'protection',\n",
       " 'policie',\n",
       " 'lan',\n",
       " 'wide',\n",
       " 'beautiy',\n",
       " 'maxnager',\n",
       " 'india',\n",
       " 'position',\n",
       " 'taken',\n",
       " 'sort',\n",
       " 'listings',\n",
       " 'modnels',\n",
       " 'micwhael',\n",
       " 'knwn',\n",
       " 'half',\n",
       " 'cases',\n",
       " 'vtep',\n",
       " 'engineeripg',\n",
       " 'mlorida',\n",
       " 'simpke',\n",
       " 'quick',\n",
       " 'mone',\n",
       " 'wireleso',\n",
       " ' icense',\n",
       " 'pau',\n",
       " 'fridacy',\n",
       " 'lako',\n",
       " 'whole',\n",
       " 'nnual',\n",
       " 'published',\n",
       " 'later',\n",
       " 'basic',\n",
       " 'hony',\n",
       " 'shows',\n",
       " 'orporate',\n",
       " 'google',\n",
       " 'churh',\n",
       " 'methd',\n",
       " 'purchasle',\n",
       " 'customerg',\n",
       " 'ctive',\n",
       " 'response',\n",
       " 'pracftice',\n",
       " 'harware',\n",
       " 'figu re',\n",
       " 'matnrials',\n",
       " 'fioe',\n",
       " 'holiday',\n",
       " 'hat',\n",
       " 'enuugh',\n",
       " 'designe',\n",
       " 'alon',\n",
       " 'among',\n",
       " 'deatz',\n",
       " 'writing',\n",
       " 'qpeed',\n",
       " 'hvtml',\n",
       " 'countriebs',\n",
       " 'loss',\n",
       " 'face',\n",
       " 'brand',\n",
       " 'discount',\n",
       " 'higter',\n",
       " 'effecqs',\n",
       " 'crjeated',\n",
       " 'remesmber',\n",
       " 'standards',\n",
       " 'yellow',\n",
       " 'political',\n",
       " 'increase',\n",
       " 'advertise',\n",
       " 'kingdom',\n",
       " 'bqse',\n",
       " 'naar',\n",
       " 'environmntal',\n",
       " 'thought',\n",
       " 'stuff',\n",
       " 'french',\n",
       " 'sto rage',\n",
       " 'japad',\n",
       " 'doing',\n",
       " 'loans',\n",
       " 'shoes',\n",
       " 'entjry',\n",
       " 'stry',\n",
       " 'nature',\n",
       " 'orders',\n",
       " 'akvailability',\n",
       " 'africah',\n",
       " 'summaryc',\n",
       " 'urn',\n",
       " 'men',\n",
       " 'growth',\n",
       " 'nates',\n",
       " 'agncy',\n",
       " 'kng',\n",
       " 'mbonday',\n",
       " 'eurorpean',\n",
       " 'activity',\n",
       " 'opy',\n",
       " 'although',\n",
       " 'drua',\n",
       " 'pics',\n",
       " 'wetern',\n",
       " 'sncome',\n",
       " 'force',\n",
       " 'cashv',\n",
       " 'employment',\n",
       " 'overal',\n",
       " 'river',\n",
       " 'commxission',\n",
       " 'packae',\n",
       " 'contents',\n",
       " 'seen',\n",
       " 'players',\n",
       " 'engine',\n",
       " 'porr',\n",
       " 'album',\n",
       " 'regional',\n",
       " 'stop',\n",
       " 'suptplies',\n",
       " 'started',\n",
       " 'administrdation',\n",
       " 'institute',\n",
       " 'views',\n",
       " 'plansd',\n",
       " 'double',\n",
       " 'build',\n",
       " 'sreen',\n",
       " 'exchalnge',\n",
       " 'types',\n",
       " 'sonn',\n",
       " 'sponsored',\n",
       " 'lines',\n",
       " 'electronic',\n",
       " 'contihue',\n",
       " 'across',\n",
       " 'benefits',\n",
       " 'needged',\n",
       " 'slason',\n",
       " 'apdply',\n",
       " 'someooe',\n",
       " 'held',\n",
       " 'anything',\n",
       " 'printer',\n",
       " 'conditon',\n",
       " 'wffective',\n",
       " 'believeh',\n",
       " 'orgagnization',\n",
       " 'effsect',\n",
       " 'asked',\n",
       " 'minq',\n",
       " 'sunday',\n",
       " 'gelection',\n",
       " 'casino',\n",
       " 'lost',\n",
       " 'tyour',\n",
       " 'mnu',\n",
       " 'volume',\n",
       " 'crows',\n",
       " 'anyone',\n",
       " 'morkgage',\n",
       " 'hkope',\n",
       " 'wilver',\n",
       " 'corporatitn',\n",
       " 'wis',\n",
       " 'inide',\n",
       " 'solutnion',\n",
       " 'smature',\n",
       " 'role',\n",
       " 'rathper',\n",
       " 'week',\n",
       " 'addwtion',\n",
       " 'came',\n",
       " 'sspply',\n",
       " 'nlothing',\n",
       " 'certain',\n",
       " 'execut ve',\n",
       " 'running',\n",
       " 'lower',\n",
       " 'nehcessary',\n",
       " 'union',\n",
       " 'jewedry',\n",
       " 'according',\n",
       " 'cclothing',\n",
       " 'particularr',\n",
       " 'fuine',\n",
       " 'nvmes',\n",
       " 'robept',\n",
       " 'homepage',\n",
       " 'our',\n",
       " 'skiltls',\n",
       " 'ush',\n",
       " 'islans',\n",
       " 'advice',\n",
       " 'areer',\n",
       " 'military',\n",
       " 'rental',\n",
       " 'deoision',\n",
       " 'leaved',\n",
       " 'british',\n",
       " 'tevens',\n",
       " 'hug',\n",
       " 'woyan',\n",
       " 'facilities',\n",
       " 'kindl',\n",
       " 'sellers',\n",
       " 'middle',\n",
       " 'movre',\n",
       " 'cafle',\n",
       " 'opdortunities',\n",
       " 'taking',\n",
       " 'values',\n",
       " 'division',\n",
       " 'coming',\n",
       " 'tuesda',\n",
       " 'objeot',\n",
       " 'nesbian',\n",
       " 'appropriae',\n",
       " 'machone',\n",
       " 'logo',\n",
       " 'length',\n",
       " 'actually',\n",
       " 'nice',\n",
       " 'score',\n",
       " 'statisjics',\n",
       " 'client',\n",
       " 'returns',\n",
       " 'capital',\n",
       " 'ollow',\n",
       " 'sample',\n",
       " 'investment',\n",
       " 'senu',\n",
       " 'sown',\n",
       " 'saburday',\n",
       " 'christtmas',\n",
       " 'englanqd',\n",
       " 'culture',\n",
       " 'bnd',\n",
       " 'flah',\n",
       " 'lead',\n",
       " 'eorge',\n",
       " 'choice',\n",
       " 'went',\n",
       " 'stating',\n",
       " 'registration',\n",
       " 'thursdaya',\n",
       " 'cqourses',\n",
       " 'consmer',\n",
       " 'kirport',\n",
       " 'foreig',\n",
       " 'artoist',\n",
       " 'outs de',\n",
       " 'furniture',\n",
       " 'level',\n",
       " 'xchannel',\n",
       " 'letter',\n",
       " 'mode',\n",
       " 'jhones',\n",
       " 'idieas',\n",
       " ...]"
      ]
     },
     "execution_count": 38,
     "metadata": {},
     "output_type": "execute_result"
    }
   ],
   "source": [
    "input_data"
   ]
  },
  {
   "cell_type": "code",
   "execution_count": 39,
   "metadata": {
    "scrolled": true
   },
   "outputs": [
    {
     "data": {
      "text/plain": [
       "['\\tthat\\n',\n",
       " '\\tthis\\n',\n",
       " '\\twith\\n',\n",
       " '\\tfrom\\n',\n",
       " '\\tyour\\n',\n",
       " '\\thave\\n',\n",
       " '\\tmore\\n',\n",
       " '\\twill\\n',\n",
       " '\\thome\\n',\n",
       " '\\tabout\\n',\n",
       " '\\tpage\\n',\n",
       " '\\tsearch\\n',\n",
       " '\\tfree\\n',\n",
       " '\\tother\\n',\n",
       " '\\tinformation\\n',\n",
       " '\\ttime\\n',\n",
       " '\\tthey\\n',\n",
       " '\\tsite\\n',\n",
       " '\\twhat\\n',\n",
       " '\\twhich\\n',\n",
       " '\\ttheir\\n',\n",
       " '\\tnews\\n',\n",
       " '\\tthere\\n',\n",
       " '\\tonly\\n',\n",
       " '\\twhen\\n',\n",
       " '\\tcontact\\n',\n",
       " '\\there\\n',\n",
       " '\\tbusiness\\n',\n",
       " '\\talso\\n',\n",
       " '\\thelp\\n',\n",
       " '\\tview\\n',\n",
       " '\\tonline\\n',\n",
       " '\\tfirst\\n',\n",
       " '\\tbeen\\n',\n",
       " '\\twould\\n',\n",
       " '\\twere\\n',\n",
       " '\\tservices\\n',\n",
       " '\\tsome\\n',\n",
       " '\\tthese\\n',\n",
       " '\\tclick\\n',\n",
       " '\\tlike\\n',\n",
       " '\\tservice\\n',\n",
       " '\\tthan\\n',\n",
       " '\\tfind\\n',\n",
       " '\\tprice\\n',\n",
       " '\\tdate\\n',\n",
       " '\\tback\\n',\n",
       " '\\tpeople\\n',\n",
       " '\\tlist\\n',\n",
       " '\\tname\\n',\n",
       " '\\tjust\\n',\n",
       " '\\tover\\n',\n",
       " '\\tstate\\n',\n",
       " '\\tyear\\n',\n",
       " '\\tinto\\n',\n",
       " '\\temail\\n',\n",
       " '\\thealth\\n',\n",
       " '\\tworld\\n',\n",
       " '\\tnext\\n',\n",
       " '\\tused\\n',\n",
       " '\\twork\\n',\n",
       " '\\tlast\\n',\n",
       " '\\tmost\\n',\n",
       " '\\tproducts\\n',\n",
       " '\\tmusic\\n',\n",
       " '\\tdata\\n',\n",
       " '\\tmake\\n',\n",
       " '\\tthem\\n',\n",
       " '\\tshould\\n',\n",
       " '\\tproduct\\n',\n",
       " '\\tsystem\\n',\n",
       " '\\tpost\\n',\n",
       " '\\tcity\\n',\n",
       " '\\tpolicy\\n',\n",
       " '\\tnumber\\n',\n",
       " '\\tsuch\\n',\n",
       " '\\tplease\\n',\n",
       " '\\tavailable\\n',\n",
       " '\\tcopyright\\n',\n",
       " '\\tsupport\\n',\n",
       " '\\tmessage\\n',\n",
       " '\\tafter\\n',\n",
       " '\\tbest\\n',\n",
       " '\\tsoftware\\n',\n",
       " '\\tthen\\n',\n",
       " '\\tgood\\n',\n",
       " '\\tvideo\\n',\n",
       " '\\twell\\n',\n",
       " '\\twhere\\n',\n",
       " '\\tinfo\\n',\n",
       " '\\trights\\n',\n",
       " '\\tpublic\\n',\n",
       " '\\tbooks\\n',\n",
       " '\\thigh\\n',\n",
       " '\\tschool\\n',\n",
       " '\\tthrough\\n',\n",
       " '\\teach\\n',\n",
       " '\\tlinks\\n',\n",
       " '\\treview\\n',\n",
       " '\\tyears\\n',\n",
       " '\\torder\\n',\n",
       " '\\tvery\\n',\n",
       " '\\tprivacy\\n',\n",
       " '\\tbook\\n',\n",
       " '\\titems\\n',\n",
       " '\\tcompany\\n',\n",
       " '\\tread\\n',\n",
       " '\\tgroup\\n',\n",
       " '\\tneed\\n',\n",
       " '\\tmany\\n',\n",
       " '\\tuser\\n',\n",
       " '\\tsaid\\n',\n",
       " '\\tdoes\\n',\n",
       " '\\tunder\\n',\n",
       " '\\tgeneral\\n',\n",
       " '\\tresearch\\n',\n",
       " '\\tuniversity\\n',\n",
       " '\\tjanuary\\n',\n",
       " '\\tmail\\n',\n",
       " '\\tfull\\n',\n",
       " '\\treviews\\n',\n",
       " '\\tprogram\\n',\n",
       " '\\tlife\\n',\n",
       " '\\tknow\\n',\n",
       " '\\tgames\\n',\n",
       " '\\tdays\\n',\n",
       " '\\tmanagement\\n',\n",
       " '\\tpart\\n',\n",
       " '\\tcould\\n',\n",
       " '\\tgreat\\n',\n",
       " '\\tunited\\n',\n",
       " '\\thotel\\n',\n",
       " '\\treal\\n',\n",
       " '\\titem\\n',\n",
       " '\\tinternational\\n',\n",
       " '\\tcenter\\n',\n",
       " '\\tebay\\n',\n",
       " '\\tmust\\n',\n",
       " '\\tstore\\n',\n",
       " '\\ttravel\\n',\n",
       " '\\tcomments\\n',\n",
       " '\\tmade\\n',\n",
       " '\\tdevelopment\\n',\n",
       " '\\treport\\n',\n",
       " '\\tmember\\n',\n",
       " '\\tdetails\\n',\n",
       " '\\tline\\n',\n",
       " '\\tterms\\n',\n",
       " '\\tbefore\\n',\n",
       " '\\thotels\\n',\n",
       " '\\tsend\\n',\n",
       " '\\tright\\n',\n",
       " '\\ttype\\n',\n",
       " '\\tbecause\\n',\n",
       " '\\tlocal\\n',\n",
       " '\\tthose\\n',\n",
       " '\\tusing\\n',\n",
       " '\\tresults\\n',\n",
       " '\\toffice\\n',\n",
       " '\\teducation\\n',\n",
       " '\\tnational\\n',\n",
       " '\\tdesign\\n',\n",
       " '\\ttake\\n',\n",
       " '\\tposted\\n',\n",
       " '\\tinternet\\n',\n",
       " '\\taddress\\n',\n",
       " '\\tcommunity\\n',\n",
       " '\\twithin\\n',\n",
       " '\\tstates\\n',\n",
       " '\\tarea\\n',\n",
       " '\\twant\\n',\n",
       " '\\tphone\\n',\n",
       " '\\tshipping\\n',\n",
       " '\\treserved\\n',\n",
       " '\\tsubject\\n',\n",
       " '\\tbetween\\n',\n",
       " '\\tforum\\n',\n",
       " '\\tfamily\\n',\n",
       " '\\tlong\\n',\n",
       " '\\tbased\\n',\n",
       " '\\tcode\\n',\n",
       " '\\tshow\\n',\n",
       " '\\teven\\n',\n",
       " '\\tblack\\n',\n",
       " '\\tcheck\\n',\n",
       " '\\tspecial\\n',\n",
       " '\\tprices\\n',\n",
       " '\\twebsite\\n',\n",
       " '\\tindex\\n',\n",
       " '\\tbeing\\n',\n",
       " '\\twomen\\n',\n",
       " '\\tmuch\\n',\n",
       " '\\tsign\\n',\n",
       " '\\tfile\\n',\n",
       " '\\tlink\\n',\n",
       " '\\topen\\n',\n",
       " '\\ttoday\\n',\n",
       " '\\ttechnology\\n',\n",
       " '\\tsouth\\n',\n",
       " '\\tcase\\n',\n",
       " '\\tproject\\n',\n",
       " '\\tsame\\n',\n",
       " '\\tpages\\n',\n",
       " '\\tversion\\n',\n",
       " '\\tsection\\n',\n",
       " '\\tfound\\n',\n",
       " '\\tsports\\n',\n",
       " '\\thouse\\n',\n",
       " '\\trelated\\n',\n",
       " '\\tsecurity\\n',\n",
       " '\\tboth\\n',\n",
       " '\\tcounty\\n',\n",
       " '\\tamerican\\n',\n",
       " '\\tphoto\\n',\n",
       " '\\tgame\\n',\n",
       " '\\tmembers\\n',\n",
       " '\\tpower\\n',\n",
       " '\\twhile\\n',\n",
       " '\\tcare\\n',\n",
       " '\\tnetwork\\n',\n",
       " '\\tdown\\n',\n",
       " '\\tcomputer\\n',\n",
       " '\\tsystems\\n',\n",
       " '\\tthree\\n',\n",
       " '\\ttotal\\n',\n",
       " '\\tplace\\n',\n",
       " '\\tfollowing\\n',\n",
       " '\\tdownload\\n',\n",
       " '\\twithout\\n',\n",
       " '\\taccess\\n',\n",
       " '\\tthink\\n',\n",
       " '\\tnorth\\n',\n",
       " '\\tresources\\n',\n",
       " '\\tcurrent\\n',\n",
       " '\\tposts\\n',\n",
       " '\\tmedia\\n',\n",
       " '\\tcontrol\\n',\n",
       " '\\twater\\n',\n",
       " '\\thistory\\n',\n",
       " '\\tpictures\\n',\n",
       " '\\tsize\\n',\n",
       " '\\tpersonal\\n',\n",
       " '\\tsince\\n',\n",
       " '\\tincluding\\n',\n",
       " '\\tguide\\n',\n",
       " '\\tshop\\n',\n",
       " '\\tdirectory\\n',\n",
       " '\\tboard\\n',\n",
       " '\\tlocation\\n',\n",
       " '\\tchange\\n',\n",
       " '\\twhite\\n',\n",
       " '\\ttext\\n',\n",
       " '\\tsmall\\n',\n",
       " '\\trating\\n',\n",
       " '\\trate\\n',\n",
       " '\\tgovernment\\n',\n",
       " '\\tchildren\\n',\n",
       " '\\tduring\\n',\n",
       " '\\treturn\\n',\n",
       " '\\tstudents\\n',\n",
       " '\\tshopping\\n',\n",
       " '\\taccount\\n',\n",
       " '\\ttimes\\n',\n",
       " '\\tsites\\n',\n",
       " '\\tlevel\\n',\n",
       " '\\tdigital\\n',\n",
       " '\\tprofile\\n',\n",
       " '\\tprevious\\n',\n",
       " '\\tform\\n',\n",
       " '\\tevents\\n',\n",
       " '\\tlove\\n',\n",
       " '\\tjohn\\n',\n",
       " '\\tmain\\n',\n",
       " '\\tcall\\n',\n",
       " '\\thours\\n',\n",
       " '\\timage\\n',\n",
       " '\\tdepartment\\n',\n",
       " '\\ttitle\\n',\n",
       " '\\tdescription\\n',\n",
       " '\\tinsurance\\n',\n",
       " '\\tanother\\n',\n",
       " '\\tshall\\n',\n",
       " '\\tproperty\\n',\n",
       " '\\tclass\\n',\n",
       " '\\tstill\\n',\n",
       " '\\tmoney\\n',\n",
       " '\\tquality\\n',\n",
       " '\\tevery\\n',\n",
       " '\\tlisting\\n',\n",
       " '\\tcontent\\n',\n",
       " '\\tcountry\\n',\n",
       " '\\tprivate\\n',\n",
       " '\\tlittle\\n',\n",
       " '\\tvisit\\n',\n",
       " '\\tsave\\n',\n",
       " '\\ttools\\n',\n",
       " '\\treply\\n',\n",
       " '\\tcustomer\\n',\n",
       " '\\tdecember\\n',\n",
       " '\\tcompare\\n',\n",
       " '\\tmovies\\n',\n",
       " '\\tinclude\\n',\n",
       " '\\tcollege\\n',\n",
       " '\\tvalue\\n',\n",
       " '\\tarticle\\n',\n",
       " '\\tyork\\n',\n",
       " '\\tcard\\n',\n",
       " '\\tjobs\\n',\n",
       " '\\tprovide\\n',\n",
       " '\\tfood\\n',\n",
       " '\\tsource\\n',\n",
       " '\\tauthor\\n',\n",
       " '\\tdifferent\\n',\n",
       " '\\tpress\\n',\n",
       " '\\tlearn\\n',\n",
       " '\\tsale\\n',\n",
       " '\\taround\\n',\n",
       " '\\tprint\\n',\n",
       " '\\tcourse\\n',\n",
       " '\\tcanada\\n',\n",
       " '\\tprocess\\n',\n",
       " '\\tteen\\n',\n",
       " '\\troom\\n',\n",
       " '\\tstock\\n',\n",
       " '\\ttraining\\n',\n",
       " '\\tcredit\\n',\n",
       " '\\tpoint\\n',\n",
       " '\\tjoin\\n',\n",
       " '\\tscience\\n',\n",
       " '\\tcategories\\n',\n",
       " '\\tadvanced\\n',\n",
       " '\\twest\\n',\n",
       " '\\tsales\\n',\n",
       " '\\tlook\\n',\n",
       " '\\tenglish\\n',\n",
       " '\\tleft\\n',\n",
       " '\\tteam\\n',\n",
       " '\\testate\\n',\n",
       " '\\tconditions\\n',\n",
       " '\\tselect\\n',\n",
       " '\\twindows\\n',\n",
       " '\\tphotos\\n',\n",
       " '\\tthread\\n',\n",
       " '\\tweek\\n',\n",
       " '\\tcategory\\n',\n",
       " '\\tnote\\n',\n",
       " '\\tlive\\n',\n",
       " '\\tlarge\\n',\n",
       " '\\tgallery\\n',\n",
       " '\\ttable\\n',\n",
       " '\\tregister\\n',\n",
       " '\\thowever\\n',\n",
       " '\\tjune\\n',\n",
       " '\\toctober\\n',\n",
       " '\\tnovember\\n',\n",
       " '\\tmarket\\n',\n",
       " '\\tlibrary\\n',\n",
       " '\\treally\\n',\n",
       " '\\taction\\n',\n",
       " '\\tstart\\n',\n",
       " '\\tseries\\n',\n",
       " '\\tmodel\\n',\n",
       " '\\tfeatures\\n',\n",
       " '\\tindustry\\n',\n",
       " '\\tplan\\n',\n",
       " '\\thuman\\n',\n",
       " '\\tprovided\\n',\n",
       " '\\trequired\\n',\n",
       " '\\tsecond\\n',\n",
       " '\\taccessories\\n',\n",
       " '\\tcost\\n',\n",
       " '\\tmovie\\n',\n",
       " '\\tforums\\n',\n",
       " '\\tmarch\\n',\n",
       " '\\tseptember\\n',\n",
       " '\\tbetter\\n',\n",
       " '\\tquestions\\n',\n",
       " '\\tjuly\\n',\n",
       " '\\tyahoo\\n',\n",
       " '\\tgoing\\n',\n",
       " '\\tmedical\\n',\n",
       " '\\ttest\\n',\n",
       " '\\tfriend\\n',\n",
       " '\\tcome\\n',\n",
       " '\\tserver\\n',\n",
       " '\\tstudy\\n',\n",
       " '\\tapplication\\n',\n",
       " '\\tcart\\n',\n",
       " '\\tstaff\\n',\n",
       " '\\tarticles\\n',\n",
       " '\\tfeedback\\n',\n",
       " '\\tagain\\n',\n",
       " '\\tplay\\n',\n",
       " '\\tlooking\\n',\n",
       " '\\tissues\\n',\n",
       " '\\tapril\\n',\n",
       " '\\tnever\\n',\n",
       " '\\tusers\\n',\n",
       " '\\tcomplete\\n',\n",
       " '\\tstreet\\n',\n",
       " '\\ttopic\\n',\n",
       " '\\tcomment\\n',\n",
       " '\\tfinancial\\n',\n",
       " '\\tthings\\n',\n",
       " '\\tworking\\n',\n",
       " '\\tagainst\\n',\n",
       " '\\tstandard\\n',\n",
       " '\\tperson\\n',\n",
       " '\\tbelow\\n',\n",
       " '\\tmobile\\n',\n",
       " '\\tless\\n',\n",
       " '\\tblog\\n',\n",
       " '\\tparty\\n',\n",
       " '\\tpayment\\n',\n",
       " '\\tequipment\\n',\n",
       " '\\tlogin\\n',\n",
       " '\\tstudent\\n',\n",
       " '\\tprograms\\n',\n",
       " '\\toffers\\n',\n",
       " '\\tlegal\\n',\n",
       " '\\tabove\\n',\n",
       " '\\trecent\\n',\n",
       " '\\tpark\\n',\n",
       " '\\tstores\\n',\n",
       " '\\tside\\n',\n",
       " '\\tproblem\\n',\n",
       " '\\tgive\\n',\n",
       " '\\tmemory\\n',\n",
       " '\\tperformance\\n',\n",
       " '\\tsocial\\n',\n",
       " '\\taugust\\n',\n",
       " '\\tquote\\n',\n",
       " '\\tlanguage\\n',\n",
       " '\\tstory\\n',\n",
       " '\\tsell\\n',\n",
       " '\\toptions\\n',\n",
       " '\\texperience\\n',\n",
       " '\\trates\\n',\n",
       " '\\tcreate\\n',\n",
       " '\\tbody\\n',\n",
       " '\\tyoung\\n',\n",
       " '\\tamerica\\n',\n",
       " '\\timportant\\n',\n",
       " '\\tfield\\n',\n",
       " '\\teast\\n',\n",
       " '\\tpaper\\n',\n",
       " '\\tsingle\\n',\n",
       " '\\tactivities\\n',\n",
       " '\\tclub\\n',\n",
       " '\\texample\\n',\n",
       " '\\tgirls\\n',\n",
       " '\\tadditional\\n',\n",
       " '\\tpassword\\n',\n",
       " '\\tlatest\\n',\n",
       " '\\tsomething\\n',\n",
       " '\\troad\\n',\n",
       " '\\tgift\\n',\n",
       " '\\tquestion\\n',\n",
       " '\\tchanges\\n',\n",
       " '\\tnight\\n',\n",
       " '\\thard\\n',\n",
       " '\\ttexas\\n',\n",
       " '\\tfour\\n',\n",
       " '\\tpoker\\n',\n",
       " '\\tstatus\\n',\n",
       " '\\tbrowse\\n',\n",
       " '\\tissue\\n',\n",
       " '\\trange\\n',\n",
       " '\\tbuilding\\n',\n",
       " '\\tseller\\n',\n",
       " '\\tcourt\\n',\n",
       " '\\tfebruary\\n',\n",
       " '\\talways\\n',\n",
       " '\\tresult\\n',\n",
       " '\\taudio\\n',\n",
       " '\\tlight\\n',\n",
       " '\\twrite\\n',\n",
       " '\\toffer\\n',\n",
       " '\\tblue\\n',\n",
       " '\\tgroups\\n',\n",
       " '\\teasy\\n',\n",
       " '\\tgiven\\n',\n",
       " '\\tfiles\\n',\n",
       " '\\tevent\\n',\n",
       " '\\trelease\\n',\n",
       " '\\tanalysis\\n',\n",
       " '\\trequest\\n',\n",
       " '\\tchina\\n',\n",
       " '\\tmaking\\n',\n",
       " '\\tpicture\\n',\n",
       " '\\tneeds\\n',\n",
       " '\\tpossible\\n',\n",
       " '\\tmight\\n',\n",
       " '\\tprofessional\\n',\n",
       " '\\tmonth\\n',\n",
       " '\\tmajor\\n',\n",
       " '\\tstar\\n',\n",
       " '\\tareas\\n',\n",
       " '\\tfuture\\n',\n",
       " '\\tspace\\n',\n",
       " '\\tcommittee\\n',\n",
       " '\\thand\\n',\n",
       " '\\tcards\\n',\n",
       " '\\tproblems\\n',\n",
       " '\\tlondon\\n',\n",
       " '\\twashington\\n',\n",
       " '\\tmeeting\\n',\n",
       " '\\tbecome\\n',\n",
       " '\\tinterest\\n',\n",
       " '\\tchild\\n',\n",
       " '\\tkeep\\n',\n",
       " '\\tenter\\n',\n",
       " '\\tcalifornia\\n',\n",
       " '\\tporn\\n',\n",
       " '\\tshare\\n',\n",
       " '\\tsimilar\\n',\n",
       " '\\tgarden\\n',\n",
       " '\\tschools\\n',\n",
       " '\\tmillion\\n',\n",
       " '\\tadded\\n',\n",
       " '\\treference\\n',\n",
       " '\\tcompanies\\n',\n",
       " '\\tlisted\\n',\n",
       " '\\tbaby\\n',\n",
       " '\\tlearning\\n',\n",
       " '\\tenergy\\n',\n",
       " '\\tdelivery\\n',\n",
       " '\\tpopular\\n',\n",
       " '\\tterm\\n',\n",
       " '\\tfilm\\n',\n",
       " '\\tstories\\n',\n",
       " '\\tcomputers\\n',\n",
       " '\\tjournal\\n',\n",
       " '\\treports\\n',\n",
       " '\\twelcome\\n',\n",
       " '\\tcentral\\n',\n",
       " '\\timages\\n',\n",
       " '\\tpresident\\n',\n",
       " '\\tnotice\\n',\n",
       " '\\toriginal\\n',\n",
       " '\\thead\\n',\n",
       " '\\tradio\\n',\n",
       " '\\tuntil\\n',\n",
       " '\\tcell\\n',\n",
       " '\\tcolor\\n',\n",
       " '\\tself\\n',\n",
       " '\\tcouncil\\n',\n",
       " '\\taway\\n',\n",
       " '\\tincludes\\n',\n",
       " '\\ttrack\\n',\n",
       " '\\taustralia\\n',\n",
       " '\\tdiscussion\\n',\n",
       " '\\tarchive\\n',\n",
       " '\\tonce\\n',\n",
       " '\\tothers\\n',\n",
       " '\\tentertainment\\n',\n",
       " '\\tagreement\\n',\n",
       " '\\tformat\\n',\n",
       " '\\tleast\\n',\n",
       " '\\tsociety\\n',\n",
       " '\\tmonths\\n',\n",
       " '\\tsafety\\n',\n",
       " '\\tfriends\\n',\n",
       " '\\tsure\\n',\n",
       " '\\ttrade\\n',\n",
       " '\\tedition\\n',\n",
       " '\\tcars\\n',\n",
       " '\\tmessages\\n',\n",
       " '\\tmarketing\\n',\n",
       " '\\ttell\\n',\n",
       " '\\tfurther\\n',\n",
       " '\\tupdated\\n',\n",
       " '\\tassociation\\n',\n",
       " '\\table\\n',\n",
       " '\\thaving\\n',\n",
       " '\\tprovides\\n',\n",
       " '\\tdavid\\n',\n",
       " '\\talready\\n',\n",
       " '\\tgreen\\n',\n",
       " '\\tstudies\\n',\n",
       " '\\tclose\\n',\n",
       " '\\tcommon\\n',\n",
       " '\\tdrive\\n',\n",
       " '\\tspecific\\n',\n",
       " '\\tseveral\\n',\n",
       " '\\tgold\\n',\n",
       " '\\tliving\\n',\n",
       " '\\tcollection\\n',\n",
       " '\\tcalled\\n',\n",
       " '\\tshort\\n',\n",
       " '\\tarts\\n',\n",
       " '\\tdisplay\\n',\n",
       " '\\tlimited\\n',\n",
       " '\\tpowered\\n',\n",
       " '\\tsolutions\\n',\n",
       " '\\tmeans\\n',\n",
       " '\\tdirector\\n',\n",
       " '\\tdaily\\n',\n",
       " '\\tbeach\\n',\n",
       " '\\tpast\\n',\n",
       " '\\tnatural\\n',\n",
       " '\\twhether\\n',\n",
       " '\\telectronics\\n',\n",
       " '\\tfive\\n',\n",
       " '\\tupon\\n',\n",
       " '\\tperiod\\n',\n",
       " '\\tplanning\\n',\n",
       " '\\tdatabase\\n',\n",
       " '\\tsays\\n',\n",
       " '\\tofficial\\n',\n",
       " '\\tweather\\n',\n",
       " '\\tland\\n',\n",
       " '\\taverage\\n',\n",
       " '\\tdone\\n',\n",
       " '\\ttechnical\\n',\n",
       " '\\twindow\\n',\n",
       " '\\tfrance\\n',\n",
       " '\\tregion\\n',\n",
       " '\\tisland\\n',\n",
       " '\\trecord\\n',\n",
       " '\\tdirect\\n',\n",
       " '\\tmicrosoft\\n',\n",
       " '\\tconference\\n',\n",
       " '\\tenvironment\\n',\n",
       " '\\trecords\\n',\n",
       " '\\tdistrict\\n',\n",
       " '\\tcalendar\\n',\n",
       " '\\tcosts\\n',\n",
       " '\\tstyle\\n',\n",
       " '\\tfront\\n',\n",
       " '\\tstatement\\n',\n",
       " '\\tupdate\\n',\n",
       " '\\tparts\\n',\n",
       " '\\tever\\n',\n",
       " '\\tdownloads\\n',\n",
       " '\\tearly\\n',\n",
       " '\\tmiles\\n',\n",
       " '\\tsound\\n',\n",
       " '\\tresource\\n',\n",
       " '\\tpresent\\n',\n",
       " '\\tapplications\\n',\n",
       " '\\teither\\n',\n",
       " '\\tdocument\\n',\n",
       " '\\tword\\n',\n",
       " '\\tworks\\n',\n",
       " '\\tmaterial\\n',\n",
       " '\\tbill\\n',\n",
       " '\\twritten\\n',\n",
       " '\\ttalk\\n',\n",
       " '\\tfederal\\n',\n",
       " '\\thosting\\n',\n",
       " '\\trules\\n',\n",
       " '\\tfinal\\n',\n",
       " '\\tadult\\n',\n",
       " '\\ttickets\\n',\n",
       " '\\tthing\\n',\n",
       " '\\tcentre\\n',\n",
       " '\\trequirements\\n',\n",
       " '\\tcheap\\n',\n",
       " '\\tnude\\n',\n",
       " '\\tkids\\n',\n",
       " '\\tfinance\\n',\n",
       " '\\ttrue\\n',\n",
       " '\\tminutes\\n',\n",
       " '\\telse\\n',\n",
       " '\\tmark\\n',\n",
       " '\\tthird\\n',\n",
       " '\\trock\\n',\n",
       " '\\tgifts\\n',\n",
       " '\\teurope\\n',\n",
       " '\\treading\\n',\n",
       " '\\ttopics\\n',\n",
       " '\\tindividual\\n',\n",
       " '\\ttips\\n',\n",
       " '\\tplus\\n',\n",
       " '\\tauto\\n',\n",
       " '\\tcover\\n',\n",
       " '\\tusually\\n',\n",
       " '\\tedit\\n',\n",
       " '\\ttogether\\n',\n",
       " '\\tvideos\\n',\n",
       " '\\tpercent\\n',\n",
       " '\\tfast\\n',\n",
       " '\\tfunction\\n',\n",
       " '\\tfact\\n',\n",
       " '\\tunit\\n',\n",
       " '\\tgetting\\n',\n",
       " '\\tglobal\\n',\n",
       " '\\ttech\\n',\n",
       " '\\tmeet\\n',\n",
       " '\\teconomic\\n',\n",
       " '\\tplayer\\n',\n",
       " '\\tprojects\\n',\n",
       " '\\tlyrics\\n',\n",
       " '\\toften\\n',\n",
       " '\\tsubscribe\\n',\n",
       " '\\tsubmit\\n',\n",
       " '\\tgermany\\n',\n",
       " '\\tamount\\n',\n",
       " '\\twatch\\n',\n",
       " '\\tincluded\\n',\n",
       " '\\tfeel\\n',\n",
       " '\\tthough\\n',\n",
       " '\\tbank\\n',\n",
       " '\\trisk\\n',\n",
       " '\\tthanks\\n',\n",
       " '\\teverything\\n',\n",
       " '\\tdeals\\n',\n",
       " '\\tvarious\\n',\n",
       " '\\twords\\n',\n",
       " '\\tlinux\\n',\n",
       " '\\tproduction\\n',\n",
       " '\\tcommercial\\n',\n",
       " '\\tjames\\n',\n",
       " '\\tweight\\n',\n",
       " '\\ttown\\n',\n",
       " '\\theart\\n',\n",
       " '\\tadvertising\\n',\n",
       " '\\treceived\\n',\n",
       " '\\tchoose\\n',\n",
       " '\\ttreatment\\n',\n",
       " '\\tnewsletter\\n',\n",
       " '\\tarchives\\n',\n",
       " '\\tpoints\\n',\n",
       " '\\tknowledge\\n',\n",
       " '\\tmagazine\\n',\n",
       " '\\terror\\n',\n",
       " '\\tcamera\\n',\n",
       " '\\tgirl\\n',\n",
       " '\\tcurrently\\n',\n",
       " '\\tconstruction\\n',\n",
       " '\\ttoys\\n',\n",
       " '\\tregistered\\n',\n",
       " '\\tclear\\n',\n",
       " '\\tgolf\\n',\n",
       " '\\treceive\\n',\n",
       " '\\tdomain\\n',\n",
       " '\\tmethods\\n',\n",
       " '\\tchapter\\n',\n",
       " '\\tmakes\\n',\n",
       " '\\tprotection\\n',\n",
       " '\\tpolicies\\n',\n",
       " '\\tloan\\n',\n",
       " '\\twide\\n',\n",
       " '\\tbeauty\\n',\n",
       " '\\tmanager\\n',\n",
       " '\\tindia\\n',\n",
       " '\\tposition\\n',\n",
       " '\\ttaken\\n',\n",
       " '\\tsort\\n',\n",
       " '\\tlistings\\n',\n",
       " '\\tmodels\\n',\n",
       " '\\tmichael\\n',\n",
       " '\\tknown\\n',\n",
       " '\\thalf\\n',\n",
       " '\\tcases\\n',\n",
       " '\\tstep\\n',\n",
       " '\\tengineering\\n',\n",
       " '\\tflorida\\n',\n",
       " '\\tsimple\\n',\n",
       " '\\tquick\\n',\n",
       " '\\tnone\\n',\n",
       " '\\twireless\\n',\n",
       " '\\tlicense\\n',\n",
       " '\\tpaul\\n',\n",
       " '\\tfriday\\n',\n",
       " '\\tlake\\n',\n",
       " '\\twhole\\n',\n",
       " '\\tannual\\n',\n",
       " '\\tpublished\\n',\n",
       " '\\tlater\\n',\n",
       " '\\tbasic\\n',\n",
       " '\\tsony\\n',\n",
       " '\\tshows\\n',\n",
       " '\\tcorporate\\n',\n",
       " '\\tgoogle\\n',\n",
       " '\\tchurch\\n',\n",
       " '\\tmethod\\n',\n",
       " '\\tpurchase\\n',\n",
       " '\\tcustomers\\n',\n",
       " '\\tactive\\n',\n",
       " '\\tresponse\\n',\n",
       " '\\tpractice\\n',\n",
       " '\\thardware\\n',\n",
       " '\\tfigure\\n',\n",
       " '\\tmaterials\\n',\n",
       " '\\tfire\\n',\n",
       " '\\tholiday\\n',\n",
       " '\\tchat\\n',\n",
       " '\\tenough\\n',\n",
       " '\\tdesigned\\n',\n",
       " '\\talong\\n',\n",
       " '\\tamong\\n',\n",
       " '\\tdeath\\n',\n",
       " '\\twriting\\n',\n",
       " '\\tspeed\\n',\n",
       " '\\thtml\\n',\n",
       " '\\tcountries\\n',\n",
       " '\\tloss\\n',\n",
       " '\\tface\\n',\n",
       " '\\tbrand\\n',\n",
       " '\\tdiscount\\n',\n",
       " '\\thigher\\n',\n",
       " '\\teffects\\n',\n",
       " '\\tcreated\\n',\n",
       " '\\tremember\\n',\n",
       " '\\tstandards\\n',\n",
       " '\\tyellow\\n',\n",
       " '\\tpolitical\\n',\n",
       " '\\tincrease\\n',\n",
       " '\\tadvertise\\n',\n",
       " '\\tkingdom\\n',\n",
       " '\\tbase\\n',\n",
       " '\\tnear\\n',\n",
       " '\\tenvironmental\\n',\n",
       " '\\tthought\\n',\n",
       " '\\tstuff\\n',\n",
       " '\\tfrench\\n',\n",
       " '\\tstorage\\n',\n",
       " '\\tjapan\\n',\n",
       " '\\tdoing\\n',\n",
       " '\\tloans\\n',\n",
       " '\\tshoes\\n',\n",
       " '\\tentry\\n',\n",
       " '\\tstay\\n',\n",
       " '\\tnature\\n',\n",
       " '\\torders\\n',\n",
       " '\\tavailability\\n',\n",
       " '\\tafrica\\n',\n",
       " '\\tsummary\\n',\n",
       " '\\tturn\\n',\n",
       " '\\tmean\\n',\n",
       " '\\tgrowth\\n',\n",
       " '\\tnotes\\n',\n",
       " '\\tagency\\n',\n",
       " '\\tking\\n',\n",
       " '\\tmonday\\n',\n",
       " '\\teuropean\\n',\n",
       " '\\tactivity\\n',\n",
       " '\\tcopy\\n',\n",
       " '\\talthough\\n',\n",
       " '\\tdrug\\n',\n",
       " '\\tpics\\n',\n",
       " '\\twestern\\n',\n",
       " '\\tincome\\n',\n",
       " '\\tforce\\n',\n",
       " '\\tcash\\n',\n",
       " '\\temployment\\n',\n",
       " '\\toverall\\n',\n",
       " '\\triver\\n',\n",
       " '\\tcommission\\n',\n",
       " '\\tpackage\\n',\n",
       " '\\tcontents\\n',\n",
       " '\\tseen\\n',\n",
       " '\\tplayers\\n',\n",
       " '\\tengine\\n',\n",
       " '\\tport\\n',\n",
       " '\\talbum\\n',\n",
       " '\\tregional\\n',\n",
       " '\\tstop\\n',\n",
       " '\\tsupplies\\n',\n",
       " '\\tstarted\\n',\n",
       " '\\tadministration\\n',\n",
       " '\\tinstitute\\n',\n",
       " '\\tviews\\n',\n",
       " '\\tplans\\n',\n",
       " '\\tdouble\\n',\n",
       " '\\tbuild\\n',\n",
       " '\\tscreen\\n',\n",
       " '\\texchange\\n',\n",
       " '\\ttypes\\n',\n",
       " '\\tsoon\\n',\n",
       " '\\tsponsored\\n',\n",
       " '\\tlines\\n',\n",
       " '\\telectronic\\n',\n",
       " '\\tcontinue\\n',\n",
       " '\\tacross\\n',\n",
       " '\\tbenefits\\n',\n",
       " '\\tneeded\\n',\n",
       " '\\tseason\\n',\n",
       " '\\tapply\\n',\n",
       " '\\tsomeone\\n',\n",
       " '\\theld\\n',\n",
       " '\\tanything\\n',\n",
       " '\\tprinter\\n',\n",
       " '\\tcondition\\n',\n",
       " '\\teffective\\n',\n",
       " '\\tbelieve\\n',\n",
       " '\\torganization\\n',\n",
       " '\\teffect\\n',\n",
       " '\\tasked\\n',\n",
       " '\\tmind\\n',\n",
       " '\\tsunday\\n',\n",
       " '\\tselection\\n',\n",
       " '\\tcasino\\n',\n",
       " '\\tlost\\n',\n",
       " '\\ttour\\n',\n",
       " '\\tmenu\\n',\n",
       " '\\tvolume\\n',\n",
       " '\\tcross\\n',\n",
       " '\\tanyone\\n',\n",
       " '\\tmortgage\\n',\n",
       " '\\thope\\n',\n",
       " '\\tsilver\\n',\n",
       " '\\tcorporation\\n',\n",
       " '\\twish\\n',\n",
       " '\\tinside\\n',\n",
       " '\\tsolution\\n',\n",
       " '\\tmature\\n',\n",
       " '\\trole\\n',\n",
       " '\\trather\\n',\n",
       " '\\tweeks\\n',\n",
       " '\\taddition\\n',\n",
       " '\\tcame\\n',\n",
       " '\\tsupply\\n',\n",
       " '\\tnothing\\n',\n",
       " '\\tcertain\\n',\n",
       " '\\texecutive\\n',\n",
       " '\\trunning\\n',\n",
       " '\\tlower\\n',\n",
       " '\\tnecessary\\n',\n",
       " '\\tunion\\n',\n",
       " '\\tjewelry\\n',\n",
       " '\\taccording\\n',\n",
       " '\\tclothing\\n',\n",
       " '\\tparticular\\n',\n",
       " '\\tfine\\n',\n",
       " '\\tnames\\n',\n",
       " '\\trobert\\n',\n",
       " '\\thomepage\\n',\n",
       " '\\thour\\n',\n",
       " '\\tskills\\n',\n",
       " '\\tbush\\n',\n",
       " '\\tislands\\n',\n",
       " '\\tadvice\\n',\n",
       " '\\tcareer\\n',\n",
       " '\\tmilitary\\n',\n",
       " '\\trental\\n',\n",
       " '\\tdecision\\n',\n",
       " '\\tleave\\n',\n",
       " '\\tbritish\\n',\n",
       " '\\tteens\\n',\n",
       " '\\thuge\\n',\n",
       " '\\twoman\\n',\n",
       " '\\tfacilities\\n',\n",
       " '\\tkind\\n',\n",
       " '\\tsellers\\n',\n",
       " '\\tmiddle\\n',\n",
       " '\\tmove\\n',\n",
       " '\\tcable\\n',\n",
       " '\\topportunities\\n',\n",
       " '\\ttaking\\n',\n",
       " '\\tvalues\\n',\n",
       " '\\tdivision\\n',\n",
       " '\\tcoming\\n',\n",
       " '\\ttuesday\\n',\n",
       " '\\tobject\\n',\n",
       " '\\tlesbian\\n',\n",
       " '\\tappropriate\\n',\n",
       " '\\tmachine\\n',\n",
       " '\\tlogo\\n',\n",
       " '\\tlength\\n',\n",
       " '\\tactually\\n',\n",
       " '\\tnice\\n',\n",
       " '\\tscore\\n',\n",
       " '\\tstatistics\\n',\n",
       " '\\tclient\\n',\n",
       " '\\treturns\\n',\n",
       " '\\tcapital\\n',\n",
       " '\\tfollow\\n',\n",
       " '\\tsample\\n',\n",
       " '\\tinvestment\\n',\n",
       " '\\tsent\\n',\n",
       " '\\tshown\\n',\n",
       " '\\tsaturday\\n',\n",
       " '\\tchristmas\\n',\n",
       " '\\tengland\\n',\n",
       " '\\tculture\\n',\n",
       " '\\tband\\n',\n",
       " '\\tflash\\n',\n",
       " '\\tlead\\n',\n",
       " '\\tgeorge\\n',\n",
       " '\\tchoice\\n',\n",
       " '\\twent\\n',\n",
       " '\\tstarting\\n',\n",
       " '\\tregistration\\n',\n",
       " '\\tthursday\\n',\n",
       " '\\tcourses\\n',\n",
       " '\\tconsumer\\n',\n",
       " '\\tairport\\n',\n",
       " '\\tforeign\\n',\n",
       " '\\tartist\\n',\n",
       " '\\toutside\\n',\n",
       " '\\tfurniture\\n',\n",
       " '\\tlevels\\n',\n",
       " '\\tchannel\\n',\n",
       " '\\tletter\\n',\n",
       " '\\tmode\\n',\n",
       " '\\tphones\\n',\n",
       " '\\tideas\\n',\n",
       " ...]"
      ]
     },
     "execution_count": 39,
     "metadata": {},
     "output_type": "execute_result"
    }
   ],
   "source": [
    "output_data"
   ]
  },
  {
   "cell_type": "code",
   "execution_count": 40,
   "metadata": {},
   "outputs": [
    {
     "data": {
      "text/plain": [
       "319653"
      ]
     },
     "execution_count": 40,
     "metadata": {},
     "output_type": "execute_result"
    }
   ],
   "source": [
    "len(input_data)"
   ]
  },
  {
   "cell_type": "code",
   "execution_count": 41,
   "metadata": {},
   "outputs": [],
   "source": [
    "#input_data -- encoder\n",
    "#output_data - decoder\n",
    "\n",
    "# Determining the maximum length of input and output sequences\n",
    "max_enc_len = max([len(seq) for seq in input_data])\n",
    "max_dec_len = max([len(seq) for seq in output_data])"
   ]
  },
  {
   "cell_type": "code",
   "execution_count": 42,
   "metadata": {},
   "outputs": [
    {
     "data": {
      "text/plain": [
       "39"
      ]
     },
     "execution_count": 42,
     "metadata": {},
     "output_type": "execute_result"
    }
   ],
   "source": [
    "max_enc_len"
   ]
  },
  {
   "cell_type": "code",
   "execution_count": 43,
   "metadata": {},
   "outputs": [
    {
     "data": {
      "text/plain": [
       "40"
      ]
     },
     "execution_count": 43,
     "metadata": {},
     "output_type": "execute_result"
    }
   ],
   "source": [
    "max_dec_len"
   ]
  },
  {
   "cell_type": "code",
   "execution_count": 44,
   "metadata": {},
   "outputs": [],
   "source": [
    "num_samples = len(input_data)"
   ]
  },
  {
   "cell_type": "code",
   "execution_count": 45,
   "metadata": {},
   "outputs": [
    {
     "data": {
      "text/plain": [
       "319653"
      ]
     },
     "execution_count": 45,
     "metadata": {},
     "output_type": "execute_result"
    }
   ],
   "source": [
    "num_samples"
   ]
  },
  {
   "cell_type": "code",
   "execution_count": 46,
   "metadata": {},
   "outputs": [
    {
     "data": {
      "text/plain": [
       "27"
      ]
     },
     "execution_count": 46,
     "metadata": {},
     "output_type": "execute_result"
    }
   ],
   "source": [
    "len(chars)"
   ]
  },
  {
   "cell_type": "code",
   "execution_count": 47,
   "metadata": {},
   "outputs": [],
   "source": [
    "# Initializing arrays to store encoder and input data\n",
    "\n",
    "enc_ip_data = np.zeros((num_samples, max_enc_len, len(chars)), dtype = \"float32\")"
   ]
  },
  {
   "cell_type": "code",
   "execution_count": 48,
   "metadata": {},
   "outputs": [
    {
     "data": {
      "text/plain": [
       "(319653, 39, 27)"
      ]
     },
     "execution_count": 48,
     "metadata": {},
     "output_type": "execute_result"
    }
   ],
   "source": [
    "enc_ip_data.shape"
   ]
  },
  {
   "cell_type": "code",
   "execution_count": 49,
   "metadata": {},
   "outputs": [],
   "source": [
    "# Initializing arrays to store decoder input\n",
    "\n",
    "\n",
    "dec_ip_data = np.zeros((num_samples, max_dec_len, len(chars) + 2), dtype = \"float32\")"
   ]
  },
  {
   "cell_type": "code",
   "execution_count": 50,
   "metadata": {},
   "outputs": [
    {
     "data": {
      "text/plain": [
       "(319653, 40, 29)"
      ]
     },
     "execution_count": 50,
     "metadata": {},
     "output_type": "execute_result"
    }
   ],
   "source": [
    "dec_ip_data.shape"
   ]
  },
  {
   "cell_type": "code",
   "execution_count": 51,
   "metadata": {},
   "outputs": [],
   "source": [
    "# Initializing arrays to store decoder output data\n",
    "dec_op_data = np.zeros((num_samples, max_dec_len, len(chars) + 2), dtype = \"float32\")"
   ]
  },
  {
   "cell_type": "code",
   "execution_count": 52,
   "metadata": {},
   "outputs": [
    {
     "data": {
      "text/plain": [
       "(319653, 40, 29)"
      ]
     },
     "execution_count": 52,
     "metadata": {},
     "output_type": "execute_result"
    }
   ],
   "source": [
    "dec_op_data.shape"
   ]
  },
  {
   "cell_type": "code",
   "execution_count": 53,
   "metadata": {},
   "outputs": [
    {
     "name": "stdout",
     "output_type": "stream",
     "text": [
      "0\n",
      "Input 0 \t\n",
      "Input 1 t\n",
      "Output 0 t\n",
      "Input 2 h\n",
      "Output 1 h\n",
      "Input 3 a\n",
      "Output 2 a\n",
      "Input 4 t\n",
      "Output 3 t\n",
      "Input 5 \n",
      "\n",
      "Output 4 \n",
      "\n"
     ]
    }
   ],
   "source": [
    "for each_row, (input_text, output_text) in enumerate(zip(input_data, output_data)):\n",
    "    print(each_row)\n",
    "     # Encoder Input data -- wrong spellings\n",
    "    for each_col, each_char in enumerate(output_text):\n",
    "        \n",
    "        print(\"Input\",each_col,  each_char)\n",
    "        if each_col > 0:\n",
    "            print(\"Output\",each_col-1, each_char)\n",
    "        \n",
    "    break\n",
    "        #enc_ip_data[each_row, each_col, char_to_pos[each_char]] ="
   ]
  },
  {
   "cell_type": "code",
   "execution_count": 54,
   "metadata": {},
   "outputs": [
    {
     "data": {
      "text/plain": [
       "'\\tthat\\n'"
      ]
     },
     "execution_count": 54,
     "metadata": {},
     "output_type": "execute_result"
    }
   ],
   "source": [
    "output_text"
   ]
  },
  {
   "cell_type": "code",
   "execution_count": 55,
   "metadata": {},
   "outputs": [],
   "source": [
    "# Filling the encoder and decoder arrays with the respective positions\n",
    "\n",
    "for each_row, (input_text, output_text) in enumerate(zip(input_data, output_data)):\n",
    "    # Encoder Input data -- wrong spellings\n",
    "    for each_col, each_char in enumerate(input_text):\n",
    "        enc_ip_data[each_row, each_col, char_to_pos[each_char]] = 1  # Set the position of each character in the input_data to 1\n",
    "\n",
    "    # Decoder Output/Input data -- correct spellings\n",
    "    for each_col, each_char in enumerate(output_text):\n",
    "        dec_ip_data[each_row, each_col, char_to_pos[each_char]] = 1  # Set the position of each character in the output_data to 1\n",
    "        if each_col > 0:\n",
    "            dec_op_data[each_row, each_col - 1, char_to_pos[each_char]] = 1  # Set the position of each character in the output_data (except for the first character) to 1"
   ]
  },
  {
   "cell_type": "code",
   "execution_count": 56,
   "metadata": {},
   "outputs": [
    {
     "data": {
      "text/plain": [
       "(319653, 39, 27)"
      ]
     },
     "execution_count": 56,
     "metadata": {},
     "output_type": "execute_result"
    }
   ],
   "source": [
    "enc_ip_data.shape"
   ]
  },
  {
   "cell_type": "code",
   "execution_count": 57,
   "metadata": {},
   "outputs": [
    {
     "data": {
      "text/plain": [
       "(319653, 40, 29)"
      ]
     },
     "execution_count": 57,
     "metadata": {},
     "output_type": "execute_result"
    }
   ],
   "source": [
    "dec_ip_data.shape"
   ]
  },
  {
   "cell_type": "code",
   "execution_count": 58,
   "metadata": {},
   "outputs": [
    {
     "data": {
      "text/plain": [
       "array([[[0., 0., 0., ..., 0., 0., 0.],\n",
       "        [0., 0., 0., ..., 0., 0., 0.],\n",
       "        [0., 1., 0., ..., 0., 0., 0.],\n",
       "        ...,\n",
       "        [0., 0., 0., ..., 0., 0., 0.],\n",
       "        [0., 0., 0., ..., 0., 0., 0.],\n",
       "        [0., 0., 0., ..., 0., 0., 0.]],\n",
       "\n",
       "       [[0., 0., 0., ..., 0., 0., 0.],\n",
       "        [0., 0., 0., ..., 0., 0., 0.],\n",
       "        [0., 0., 0., ..., 0., 0., 0.],\n",
       "        ...,\n",
       "        [0., 0., 0., ..., 0., 0., 0.],\n",
       "        [0., 0., 0., ..., 0., 0., 0.],\n",
       "        [0., 0., 0., ..., 0., 0., 0.]],\n",
       "\n",
       "       [[0., 0., 0., ..., 0., 0., 0.],\n",
       "        [0., 0., 0., ..., 0., 0., 0.],\n",
       "        [0., 0., 0., ..., 0., 0., 0.],\n",
       "        ...,\n",
       "        [0., 0., 0., ..., 0., 0., 0.],\n",
       "        [0., 0., 0., ..., 0., 0., 0.],\n",
       "        [0., 0., 0., ..., 0., 0., 0.]],\n",
       "\n",
       "       ...,\n",
       "\n",
       "       [[0., 0., 0., ..., 0., 0., 0.],\n",
       "        [0., 0., 0., ..., 0., 0., 0.],\n",
       "        [0., 0., 0., ..., 0., 0., 0.],\n",
       "        ...,\n",
       "        [0., 0., 0., ..., 0., 0., 0.],\n",
       "        [0., 0., 0., ..., 0., 0., 0.],\n",
       "        [0., 0., 0., ..., 0., 0., 0.]],\n",
       "\n",
       "       [[0., 0., 0., ..., 0., 0., 0.],\n",
       "        [0., 0., 0., ..., 0., 0., 0.],\n",
       "        [0., 0., 0., ..., 0., 0., 0.],\n",
       "        ...,\n",
       "        [0., 0., 0., ..., 0., 0., 0.],\n",
       "        [0., 0., 0., ..., 0., 0., 0.],\n",
       "        [0., 0., 0., ..., 0., 0., 0.]],\n",
       "\n",
       "       [[0., 0., 1., ..., 0., 0., 0.],\n",
       "        [0., 0., 0., ..., 0., 0., 0.],\n",
       "        [0., 0., 0., ..., 0., 0., 0.],\n",
       "        ...,\n",
       "        [0., 0., 0., ..., 0., 0., 0.],\n",
       "        [0., 0., 0., ..., 0., 0., 0.],\n",
       "        [0., 0., 0., ..., 0., 0., 0.]]], dtype=float32)"
      ]
     },
     "execution_count": 58,
     "metadata": {},
     "output_type": "execute_result"
    }
   ],
   "source": [
    "enc_ip_data"
   ]
  },
  {
   "cell_type": "code",
   "execution_count": 59,
   "metadata": {},
   "outputs": [
    {
     "data": {
      "text/plain": [
       "array([[[0., 0., 0., ..., 0., 1., 0.],\n",
       "        [0., 0., 0., ..., 0., 0., 0.],\n",
       "        [0., 0., 0., ..., 0., 0., 0.],\n",
       "        ...,\n",
       "        [0., 0., 0., ..., 0., 0., 0.],\n",
       "        [0., 0., 0., ..., 0., 0., 0.],\n",
       "        [0., 0., 0., ..., 0., 0., 0.]],\n",
       "\n",
       "       [[0., 0., 0., ..., 0., 1., 0.],\n",
       "        [0., 0., 0., ..., 0., 0., 0.],\n",
       "        [0., 0., 0., ..., 0., 0., 0.],\n",
       "        ...,\n",
       "        [0., 0., 0., ..., 0., 0., 0.],\n",
       "        [0., 0., 0., ..., 0., 0., 0.],\n",
       "        [0., 0., 0., ..., 0., 0., 0.]],\n",
       "\n",
       "       [[0., 0., 0., ..., 0., 1., 0.],\n",
       "        [0., 0., 0., ..., 0., 0., 0.],\n",
       "        [0., 0., 0., ..., 0., 0., 0.],\n",
       "        ...,\n",
       "        [0., 0., 0., ..., 0., 0., 0.],\n",
       "        [0., 0., 0., ..., 0., 0., 0.],\n",
       "        [0., 0., 0., ..., 0., 0., 0.]],\n",
       "\n",
       "       ...,\n",
       "\n",
       "       [[0., 0., 0., ..., 0., 1., 0.],\n",
       "        [0., 0., 0., ..., 0., 0., 0.],\n",
       "        [0., 0., 0., ..., 0., 0., 0.],\n",
       "        ...,\n",
       "        [0., 0., 0., ..., 0., 0., 0.],\n",
       "        [0., 0., 0., ..., 0., 0., 0.],\n",
       "        [0., 0., 0., ..., 0., 0., 0.]],\n",
       "\n",
       "       [[0., 0., 0., ..., 0., 1., 0.],\n",
       "        [0., 0., 0., ..., 0., 0., 0.],\n",
       "        [0., 0., 0., ..., 0., 0., 0.],\n",
       "        ...,\n",
       "        [0., 0., 0., ..., 0., 0., 0.],\n",
       "        [0., 0., 0., ..., 0., 0., 0.],\n",
       "        [0., 0., 0., ..., 0., 0., 0.]],\n",
       "\n",
       "       [[0., 0., 0., ..., 0., 1., 0.],\n",
       "        [0., 0., 0., ..., 0., 0., 0.],\n",
       "        [0., 0., 0., ..., 0., 0., 0.],\n",
       "        ...,\n",
       "        [0., 0., 0., ..., 0., 0., 0.],\n",
       "        [0., 0., 0., ..., 0., 0., 0.],\n",
       "        [0., 0., 0., ..., 0., 0., 0.]]], dtype=float32)"
      ]
     },
     "execution_count": 59,
     "metadata": {},
     "output_type": "execute_result"
    }
   ],
   "source": [
    "dec_ip_data"
   ]
  },
  {
   "cell_type": "markdown",
   "metadata": {},
   "source": [
    "### Building the Encoder-decoder architecture"
   ]
  },
  {
   "cell_type": "code",
   "execution_count": 60,
   "metadata": {},
   "outputs": [
    {
     "data": {
      "text/plain": [
       "(319653, 39, 27)"
      ]
     },
     "execution_count": 60,
     "metadata": {},
     "output_type": "execute_result"
    }
   ],
   "source": [
    "enc_ip_data.shape"
   ]
  },
  {
   "cell_type": "code",
   "execution_count": 61,
   "metadata": {},
   "outputs": [],
   "source": [
    "from tensorflow.keras.models import Model"
   ]
  },
  {
   "cell_type": "code",
   "execution_count": 62,
   "metadata": {},
   "outputs": [],
   "source": [
    "from tensorflow.keras.layers import LSTM, Dense, Input"
   ]
  },
  {
   "cell_type": "markdown",
   "metadata": {},
   "source": [
    "### Encoder"
   ]
  },
  {
   "cell_type": "code",
   "execution_count": 63,
   "metadata": {},
   "outputs": [],
   "source": [
    "## Define the encoder input shape\n",
    "encode_inputs = Input(shape = (max_enc_len, len(chars)))"
   ]
  },
  {
   "cell_type": "code",
   "execution_count": 64,
   "metadata": {},
   "outputs": [
    {
     "data": {
      "text/plain": [
       "TensorShape([None, 39, 27])"
      ]
     },
     "execution_count": 64,
     "metadata": {},
     "output_type": "execute_result"
    }
   ],
   "source": [
    "encode_inputs.shape"
   ]
  },
  {
   "cell_type": "code",
   "execution_count": 65,
   "metadata": {},
   "outputs": [],
   "source": [
    "## Define the encoder LSTM layer\n",
    "\n",
    "encode_lstm = LSTM(kernel_initializer = \"random_uniform\", return_state = True ,units = 150 )"
   ]
  },
  {
   "cell_type": "code",
   "execution_count": 66,
   "metadata": {},
   "outputs": [],
   "source": [
    "# Get the encoder LSTM outputs and states\n",
    "\n",
    "enc_output,state_a,state_c = encode_lstm(encode_inputs) "
   ]
  },
  {
   "cell_type": "code",
   "execution_count": 67,
   "metadata": {},
   "outputs": [],
   "source": [
    "# Combine the encoder LSTM states to further feed to decode\n",
    "\n",
    "encode_states = [state_a, state_c]"
   ]
  },
  {
   "cell_type": "code",
   "execution_count": 86,
   "metadata": {},
   "outputs": [
    {
     "data": {
      "text/plain": [
       "[<KerasTensor: shape=(None, 150) dtype=float32 (created by layer 'lstm')>,\n",
       " <KerasTensor: shape=(None, 150) dtype=float32 (created by layer 'lstm')>]"
      ]
     },
     "execution_count": 86,
     "metadata": {},
     "output_type": "execute_result"
    }
   ],
   "source": [
    "encode_states"
   ]
  },
  {
   "cell_type": "markdown",
   "metadata": {},
   "source": [
    "### Decoder"
   ]
  },
  {
   "cell_type": "code",
   "execution_count": 68,
   "metadata": {},
   "outputs": [],
   "source": [
    "# Number of tokens in the decoder (characters + SOS + EOS)\n",
    "num_dec_tokens = len(chars) + 2"
   ]
  },
  {
   "cell_type": "code",
   "execution_count": 69,
   "metadata": {},
   "outputs": [
    {
     "data": {
      "text/plain": [
       "29"
      ]
     },
     "execution_count": 69,
     "metadata": {},
     "output_type": "execute_result"
    }
   ],
   "source": [
    "num_dec_tokens"
   ]
  },
  {
   "cell_type": "code",
   "execution_count": 70,
   "metadata": {},
   "outputs": [],
   "source": [
    "# # Define the decoder input shape\n",
    "\n",
    "decoder_inputs = Input(shape = (None,len(chars) + 2))"
   ]
  },
  {
   "cell_type": "code",
   "execution_count": 71,
   "metadata": {},
   "outputs": [
    {
     "data": {
      "text/plain": [
       "TensorShape([None, None, 29])"
      ]
     },
     "execution_count": 71,
     "metadata": {},
     "output_type": "execute_result"
    }
   ],
   "source": [
    "decoder_inputs.shape"
   ]
  },
  {
   "cell_type": "code",
   "execution_count": 72,
   "metadata": {},
   "outputs": [],
   "source": [
    "## Define the decoder LSTM layer\n",
    "\n",
    "decoder_lstm = LSTM(kernel_initializer = \"random_uniform\",return_sequences = True, return_state = True ,units = 150 )"
   ]
  },
  {
   "cell_type": "code",
   "execution_count": 73,
   "metadata": {},
   "outputs": [],
   "source": [
    "## Define the decoder dense layer for output\n",
    "\n",
    "decoder_dense = Dense(units = num_dec_tokens, activation = \"softmax\" )"
   ]
  },
  {
   "cell_type": "code",
   "execution_count": null,
   "metadata": {},
   "outputs": [],
   "source": []
  },
  {
   "cell_type": "code",
   "execution_count": 74,
   "metadata": {},
   "outputs": [],
   "source": [
    "# Get the decoder LSTM outputs and states\n",
    "#here the initial_state is the encode_states\n",
    "\n",
    "decoder_outputs, decoder_state_a, decodet_state_c = decoder_lstm(decoder_inputs, initial_state = encode_states)"
   ]
  },
  {
   "cell_type": "code",
   "execution_count": 75,
   "metadata": {},
   "outputs": [
    {
     "data": {
      "text/plain": [
       "<KerasTensor: shape=(None, None, 150) dtype=float32 (created by layer 'lstm_1')>"
      ]
     },
     "execution_count": 75,
     "metadata": {},
     "output_type": "execute_result"
    }
   ],
   "source": [
    "decoder_outputs"
   ]
  },
  {
   "cell_type": "code",
   "execution_count": 77,
   "metadata": {},
   "outputs": [],
   "source": [
    " # Apply the dense layer to the decoder outputs to get the final probabilities\n",
    "decoder_ouputs = decoder_dense(decoder_outputs)"
   ]
  },
  {
   "cell_type": "code",
   "execution_count": 78,
   "metadata": {},
   "outputs": [
    {
     "data": {
      "text/plain": [
       "<KerasTensor: shape=(None, None, 29) dtype=float32 (created by layer 'dense')>"
      ]
     },
     "execution_count": 78,
     "metadata": {},
     "output_type": "execute_result"
    }
   ],
   "source": [
    "decoder_ouputs"
   ]
  },
  {
   "cell_type": "markdown",
   "metadata": {},
   "source": [
    "### Combined"
   ]
  },
  {
   "cell_type": "code",
   "execution_count": 79,
   "metadata": {},
   "outputs": [],
   "source": [
    "#Finally combine encoder and decoder into a single model\n",
    "\n",
    "model = Model([encode_inputs, decoder_inputs], decoder_ouputs)"
   ]
  },
  {
   "cell_type": "code",
   "execution_count": 80,
   "metadata": {},
   "outputs": [
    {
     "name": "stdout",
     "output_type": "stream",
     "text": [
      "Model: \"model\"\n",
      "__________________________________________________________________________________________________\n",
      " Layer (type)                   Output Shape         Param #     Connected to                     \n",
      "==================================================================================================\n",
      " input_1 (InputLayer)           [(None, 39, 27)]     0           []                               \n",
      "                                                                                                  \n",
      " input_2 (InputLayer)           [(None, None, 29)]   0           []                               \n",
      "                                                                                                  \n",
      " lstm (LSTM)                    [(None, 150),        106800      ['input_1[0][0]']                \n",
      "                                 (None, 150),                                                     \n",
      "                                 (None, 150)]                                                     \n",
      "                                                                                                  \n",
      " lstm_1 (LSTM)                  [(None, None, 150),  108000      ['input_2[0][0]',                \n",
      "                                 (None, 150),                     'lstm[0][1]',                   \n",
      "                                 (None, 150)]                     'lstm[0][2]']                   \n",
      "                                                                                                  \n",
      " dense (Dense)                  (None, None, 29)     4379        ['lstm_1[0][0]']                 \n",
      "                                                                                                  \n",
      "==================================================================================================\n",
      "Total params: 219,179\n",
      "Trainable params: 219,179\n",
      "Non-trainable params: 0\n",
      "__________________________________________________________________________________________________\n"
     ]
    }
   ],
   "source": [
    "model.summary()"
   ]
  },
  {
   "cell_type": "code",
   "execution_count": 81,
   "metadata": {},
   "outputs": [],
   "source": [
    "# Compile the model with categorical crossentropy loss and adam optimizer\n",
    "\n",
    "model.compile(loss = \"categorical_crossentropy\", optimizer = \"adam\", metrics = [\"accuracy\"])"
   ]
  },
  {
   "cell_type": "code",
   "execution_count": 82,
   "metadata": {},
   "outputs": [],
   "source": [
    "from tensorflow.keras.utils import plot_model"
   ]
  },
  {
   "cell_type": "code",
   "execution_count": 83,
   "metadata": {},
   "outputs": [
    {
     "data": {
      "image/png": "[encoded data removed]",
      "text/plain": [
       "<IPython.core.display.Image object>"
      ]
     },
     "execution_count": 83,
     "metadata": {},
     "output_type": "execute_result"
    }
   ],
   "source": [
    "plot_model(model,show_shapes=True,show_dtype=True)"
   ]
  },
  {
   "cell_type": "code",
   "execution_count": null,
   "metadata": {},
   "outputs": [],
   "source": [
    "X = [enc_ip_data,dec_ip_data]\n",
    "y = dec_op_data"
   ]
  },
  {
   "cell_type": "code",
   "execution_count": null,
   "metadata": {},
   "outputs": [],
   "source": [
    "#Train the model\n",
    "\n",
    "model.fit(X, y, epochs=20, batch_size = 32)"
   ]
  },
  {
   "cell_type": "markdown",
   "metadata": {},
   "source": [
    "### Save the model"
   ]
  },
  {
   "cell_type": "code",
   "execution_count": 84,
   "metadata": {},
   "outputs": [
    {
     "data": {
      "text/plain": [
       "<KerasTensor: shape=(None, 39, 27) dtype=float32 (created by layer 'input_1')>"
      ]
     },
     "execution_count": 84,
     "metadata": {},
     "output_type": "execute_result"
    }
   ],
   "source": [
    "encode_inputs"
   ]
  },
  {
   "cell_type": "code",
   "execution_count": 85,
   "metadata": {},
   "outputs": [
    {
     "data": {
      "text/plain": [
       "[<KerasTensor: shape=(None, 150) dtype=float32 (created by layer 'lstm')>,\n",
       " <KerasTensor: shape=(None, 150) dtype=float32 (created by layer 'lstm')>]"
      ]
     },
     "execution_count": 85,
     "metadata": {},
     "output_type": "execute_result"
    }
   ],
   "source": [
    "encode_states"
   ]
  },
  {
   "cell_type": "code",
   "execution_count": 87,
   "metadata": {},
   "outputs": [],
   "source": [
    "# Define the encoder model with encoder inputs and encoder states\n",
    "\n",
    "enc_model = Model(encode_inputs,encode_states )"
   ]
  },
  {
   "cell_type": "code",
   "execution_count": 88,
   "metadata": {},
   "outputs": [
    {
     "name": "stdout",
     "output_type": "stream",
     "text": [
      "Model: \"model_1\"\n",
      "_________________________________________________________________\n",
      " Layer (type)                Output Shape              Param #   \n",
      "=================================================================\n",
      " input_1 (InputLayer)        [(None, 39, 27)]          0         \n",
      "                                                                 \n",
      " lstm (LSTM)                 [(None, 150),             106800    \n",
      "                              (None, 150),                       \n",
      "                              (None, 150)]                       \n",
      "                                                                 \n",
      "=================================================================\n",
      "Total params: 106,800\n",
      "Trainable params: 106,800\n",
      "Non-trainable params: 0\n",
      "_________________________________________________________________\n"
     ]
    }
   ],
   "source": [
    "enc_model.summary()"
   ]
  },
  {
   "cell_type": "code",
   "execution_count": 89,
   "metadata": {},
   "outputs": [
    {
     "data": {
      "image/png": "[encoded data removed]",
      "text/plain": [
       "<IPython.core.display.Image object>"
      ]
     },
     "execution_count": 89,
     "metadata": {},
     "output_type": "execute_result"
    }
   ],
   "source": [
    "plot_model(enc_model,show_shapes=True,show_dtype=True)"
   ]
  },
  {
   "cell_type": "code",
   "execution_count": 90,
   "metadata": {},
   "outputs": [],
   "source": [
    "# Define inputs for decoder initial state (for prediction)\n",
    "enc_state_a = Input(shape = (150,))\n",
    "enc_state_c = Input(shape = (150,))\n",
    "\n",
    "############encoder states##################\n",
    "encode_states_dec = [enc_state_a, enc_state_c]\n",
    "############encoder states##################\n",
    "\n",
    "\n",
    "# Define the decoder outputs and states using the decoder LSTM layer\n",
    "\n",
    "#########Decoder lstm ##############\n",
    "decoder_outputs, dec_state_a,dec_state_c =  decoder_lstm(decoder_inputs, initial_state = encode_states_dec)\n",
    "#########Decoder lstm ##############\n",
    "\n",
    "# Apply the decoder dense layer to the decoder outputs\n",
    "##############outputs of decoder##########\n",
    "decoder_states = [dec_state_a,dec_state_c ]\n",
    "decoder_outputs = decoder_dense(decoder_outputs)\n",
    "###########################\n",
    "\n",
    "\n",
    "# Define the decoder model with decoder inputs and decoder states\n",
    "\n",
    "# Final model\n",
    "input_decoder = [decoder_inputs, encode_states_dec]\n",
    "output_decoder = [decoder_outputs, decoder_states]\n",
    "\n",
    "dec_model = Model(input_decoder, output_decoder)"
   ]
  },
  {
   "cell_type": "code",
   "execution_count": 92,
   "metadata": {},
   "outputs": [
    {
     "name": "stdout",
     "output_type": "stream",
     "text": [
      "Model: \"model_2\"\n",
      "__________________________________________________________________________________________________\n",
      " Layer (type)                   Output Shape         Param #     Connected to                     \n",
      "==================================================================================================\n",
      " input_2 (InputLayer)           [(None, None, 29)]   0           []                               \n",
      "                                                                                                  \n",
      " input_3 (InputLayer)           [(None, 150)]        0           []                               \n",
      "                                                                                                  \n",
      " input_4 (InputLayer)           [(None, 150)]        0           []                               \n",
      "                                                                                                  \n",
      " lstm_1 (LSTM)                  [(None, None, 150),  108000      ['input_2[0][0]',                \n",
      "                                 (None, 150),                     'input_3[0][0]',                \n",
      "                                 (None, 150)]                     'input_4[0][0]']                \n",
      "                                                                                                  \n",
      " dense (Dense)                  (None, None, 29)     4379        ['lstm_1[1][0]']                 \n",
      "                                                                                                  \n",
      "==================================================================================================\n",
      "Total params: 112,379\n",
      "Trainable params: 112,379\n",
      "Non-trainable params: 0\n",
      "__________________________________________________________________________________________________\n"
     ]
    }
   ],
   "source": [
    "dec_model.summary()"
   ]
  },
  {
   "cell_type": "code",
   "execution_count": 94,
   "metadata": {},
   "outputs": [
    {
     "data": {
      "image/png": "[encoded data removed]",
      "text/plain": [
       "<IPython.core.display.Image object>"
      ]
     },
     "execution_count": 94,
     "metadata": {},
     "output_type": "execute_result"
    }
   ],
   "source": [
    "plot_model(enc_model,show_shapes=True,show_dtype=True)"
   ]
  },
  {
   "cell_type": "code",
   "execution_count": 93,
   "metadata": {},
   "outputs": [
    {
     "data": {
      "image/png": "[encoded data removed]",
      "text/plain": [
       "<IPython.core.display.Image object>"
      ]
     },
     "execution_count": 93,
     "metadata": {},
     "output_type": "execute_result"
    }
   ],
   "source": [
    "plot_model(dec_model,show_shapes=True,show_dtype=True)"
   ]
  },
  {
   "cell_type": "code",
   "execution_count": null,
   "metadata": {},
   "outputs": [],
   "source": [
    "#enc_model -- encoder model"
   ]
  },
  {
   "cell_type": "code",
   "execution_count": null,
   "metadata": {},
   "outputs": [],
   "source": [
    "#dec_model -- decoder model"
   ]
  },
  {
   "cell_type": "code",
   "execution_count": null,
   "metadata": {},
   "outputs": [],
   "source": [
    "enc_model.save(\"enc_model_spell.h5\")"
   ]
  },
  {
   "cell_type": "code",
   "execution_count": null,
   "metadata": {},
   "outputs": [],
   "source": [
    "dec_model.save(\"dec_model_spell.h5\")"
   ]
  },
  {
   "cell_type": "code",
   "execution_count": null,
   "metadata": {},
   "outputs": [],
   "source": []
  }
 ],
 "metadata": {
  "kernelspec": {
   "display_name": "Python 3 (ipykernel)",
   "language": "python",
   "name": "python3"
  },
  "language_info": {
   "codemirror_mode": {
    "name": "ipython",
    "version": 3
   },
   "file_extension": ".py",
   "mimetype": "text/x-python",
   "name": "python",
   "nbconvert_exporter": "python",
   "pygments_lexer": "ipython3",
   "version": "3.9.13"
  }
 },
 "nbformat": 4,
 "nbformat_minor": 4
}
