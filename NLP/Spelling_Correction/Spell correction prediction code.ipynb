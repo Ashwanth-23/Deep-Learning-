{
 "cells": [
  {
   "cell_type": "code",
   "execution_count": 1,
   "metadata": {},
   "outputs": [],
   "source": [
    "from tensorflow.keras.models import load_model"
   ]
  },
  {
   "cell_type": "code",
   "execution_count": 2,
   "metadata": {},
   "outputs": [
    {
     "name": "stdout",
     "output_type": "stream",
     "text": [
      "WARNING:tensorflow:No training configuration found in the save file, so the model was *not* compiled. Compile it manually.\n",
      "WARNING:tensorflow:No training configuration found in the save file, so the model was *not* compiled. Compile it manually.\n"
     ]
    }
   ],
   "source": [
    "#Loding the saved encoder and decoder models\n",
    "\n",
    "encoder_model = load_model(\"enc_model_spell.h5\")\n",
    "decoder_model = load_model(\"dec_model_spell.h5\")"
   ]
  },
  {
   "cell_type": "code",
   "execution_count": 3,
   "metadata": {},
   "outputs": [
    {
     "name": "stdout",
     "output_type": "stream",
     "text": [
      "Model: \"model_2\"\n",
      "_________________________________________________________________\n",
      " Layer (type)                Output Shape              Param #   \n",
      "=================================================================\n",
      " input_1 (InputLayer)        [(None, 38, 27)]          0         \n",
      "                                                                 \n",
      " lstm (LSTM)                 [(None, 150),             106800    \n",
      "                              (None, 150),                       \n",
      "                              (None, 150)]                       \n",
      "                                                                 \n",
      "=================================================================\n",
      "Total params: 106,800\n",
      "Trainable params: 106,800\n",
      "Non-trainable params: 0\n",
      "_________________________________________________________________\n"
     ]
    }
   ],
   "source": [
    "encoder_model.summary()"
   ]
  },
  {
   "cell_type": "code",
   "execution_count": 4,
   "metadata": {},
   "outputs": [],
   "source": [
    "import numpy as np"
   ]
  },
  {
   "cell_type": "code",
   "execution_count": 5,
   "metadata": {},
   "outputs": [],
   "source": [
    "import re"
   ]
  },
  {
   "cell_type": "code",
   "execution_count": 6,
   "metadata": {},
   "outputs": [],
   "source": [
    "re_special_char = \"[^a-z\\s]\""
   ]
  },
  {
   "cell_type": "code",
   "execution_count": 7,
   "metadata": {},
   "outputs": [],
   "source": [
    "def text_preprocessing(word):\n",
    "    word = str(word)\n",
    "    #Normalizing the case \n",
    "    word = word.lower()\n",
    "    #Removal of special characters\n",
    "    word = re.sub(re_special_char,\"\", word)\n",
    "    return word"
   ]
  },
  {
   "cell_type": "code",
   "execution_count": 8,
   "metadata": {},
   "outputs": [],
   "source": [
    "chars = list(\" abcdefghijklmnopqrstuvwxyz\")"
   ]
  },
  {
   "cell_type": "code",
   "execution_count": 34,
   "metadata": {},
   "outputs": [],
   "source": [
    "char_to_pos = {}\n",
    "pos_to_char = {}"
   ]
  },
  {
   "cell_type": "code",
   "execution_count": 35,
   "metadata": {},
   "outputs": [],
   "source": [
    "for i,each_char in enumerate(chars):\n",
    "#     print(i,each_char)\n",
    "      char_to_pos[each_char] = i\n",
    "      pos_to_char[i] = each_char"
   ]
  },
  {
   "cell_type": "code",
   "execution_count": 36,
   "metadata": {},
   "outputs": [],
   "source": [
    "count = len(chars)"
   ]
  },
  {
   "cell_type": "code",
   "execution_count": 37,
   "metadata": {},
   "outputs": [
    {
     "data": {
      "text/plain": [
       "27"
      ]
     },
     "execution_count": 37,
     "metadata": {},
     "output_type": "execute_result"
    }
   ],
   "source": [
    "count"
   ]
  },
  {
   "cell_type": "code",
   "execution_count": 38,
   "metadata": {},
   "outputs": [],
   "source": [
    "dec_codes = [\"\\t\",\"\\n\"]"
   ]
  },
  {
   "cell_type": "code",
   "execution_count": 39,
   "metadata": {},
   "outputs": [],
   "source": [
    "max_enc_len = 38\n",
    "max_dec_len = 40"
   ]
  },
  {
   "cell_type": "code",
   "execution_count": 40,
   "metadata": {},
   "outputs": [],
   "source": [
    "for each_char in dec_codes:\n",
    "    char_to_pos[each_char] = count\n",
    "    pos_to_char[count] = each_char\n",
    "    count = count+1"
   ]
  },
  {
   "cell_type": "code",
   "execution_count": 41,
   "metadata": {},
   "outputs": [
    {
     "data": {
      "text/plain": [
       "{' ': 0,\n",
       " 'a': 1,\n",
       " 'b': 2,\n",
       " 'c': 3,\n",
       " 'd': 4,\n",
       " 'e': 5,\n",
       " 'f': 6,\n",
       " 'g': 7,\n",
       " 'h': 8,\n",
       " 'i': 9,\n",
       " 'j': 10,\n",
       " 'k': 11,\n",
       " 'l': 12,\n",
       " 'm': 13,\n",
       " 'n': 14,\n",
       " 'o': 15,\n",
       " 'p': 16,\n",
       " 'q': 17,\n",
       " 'r': 18,\n",
       " 's': 19,\n",
       " 't': 20,\n",
       " 'u': 21,\n",
       " 'v': 22,\n",
       " 'w': 23,\n",
       " 'x': 24,\n",
       " 'y': 25,\n",
       " 'z': 26,\n",
       " '\\t': 27,\n",
       " '\\n': 28}"
      ]
     },
     "execution_count": 41,
     "metadata": {},
     "output_type": "execute_result"
    }
   ],
   "source": [
    "char_to_pos"
   ]
  },
  {
   "cell_type": "code",
   "execution_count": 56,
   "metadata": {},
   "outputs": [
    {
     "data": {
      "text/plain": [
       "{0: ' ',\n",
       " 1: 'a',\n",
       " 2: 'b',\n",
       " 3: 'c',\n",
       " 4: 'd',\n",
       " 5: 'e',\n",
       " 6: 'f',\n",
       " 7: 'g',\n",
       " 8: 'h',\n",
       " 9: 'i',\n",
       " 10: 'j',\n",
       " 11: 'k',\n",
       " 12: 'l',\n",
       " 13: 'm',\n",
       " 14: 'n',\n",
       " 15: 'o',\n",
       " 16: 'p',\n",
       " 17: 'q',\n",
       " 18: 'r',\n",
       " 19: 's',\n",
       " 20: 't',\n",
       " 21: 'u',\n",
       " 22: 'v',\n",
       " 23: 'w',\n",
       " 24: 'x',\n",
       " 25: 'y',\n",
       " 26: 'z',\n",
       " 27: '\\t',\n",
       " 28: '\\n'}"
      ]
     },
     "execution_count": 56,
     "metadata": {},
     "output_type": "execute_result"
    }
   ],
   "source": [
    "pos_to_char"
   ]
  },
  {
   "cell_type": "markdown",
   "metadata": {},
   "source": [
    "-----------------------"
   ]
  },
  {
   "cell_type": "code",
   "execution_count": 18,
   "metadata": {},
   "outputs": [],
   "source": [
    "input_text = \"pricea\""
   ]
  },
  {
   "cell_type": "code",
   "execution_count": 20,
   "metadata": {},
   "outputs": [],
   "source": [
    "#1 -- 1 word 1 row\n",
    "\n",
    "enc_ip_data = np.zeros((1, max_enc_len, len(chars)), dtype = \"float32\")"
   ]
  },
  {
   "cell_type": "code",
   "execution_count": 21,
   "metadata": {},
   "outputs": [
    {
     "data": {
      "text/plain": [
       "(1, 38, 27)"
      ]
     },
     "execution_count": 21,
     "metadata": {},
     "output_type": "execute_result"
    }
   ],
   "source": [
    "enc_ip_data.shape"
   ]
  },
  {
   "cell_type": "code",
   "execution_count": 23,
   "metadata": {},
   "outputs": [],
   "source": [
    "for each_col, each_char in enumerate(input_text):  # Iterate over each character in the input word\n",
    "        # Set the corresponding index in the array to 1 to represent the character\n",
    "        enc_ip_data[0, each_col, char_to_pos[each_char]] = 1"
   ]
  },
  {
   "cell_type": "code",
   "execution_count": 24,
   "metadata": {},
   "outputs": [
    {
     "data": {
      "text/plain": [
       "array([[[0., 0., 0., ..., 0., 0., 0.],\n",
       "        [0., 0., 0., ..., 0., 0., 0.],\n",
       "        [0., 0., 0., ..., 0., 0., 0.],\n",
       "        ...,\n",
       "        [0., 0., 0., ..., 0., 0., 0.],\n",
       "        [0., 0., 0., ..., 0., 0., 0.],\n",
       "        [0., 0., 0., ..., 0., 0., 0.]]], dtype=float32)"
      ]
     },
     "execution_count": 24,
     "metadata": {},
     "output_type": "execute_result"
    }
   ],
   "source": [
    "enc_ip_data"
   ]
  },
  {
   "cell_type": "code",
   "execution_count": 25,
   "metadata": {},
   "outputs": [],
   "source": [
    "encoder_state_a, encoder_state_c = encoder_model.predict(enc_ip_data, verbose = 0)"
   ]
  },
  {
   "cell_type": "code",
   "execution_count": 28,
   "metadata": {},
   "outputs": [],
   "source": [
    "target_seq = np.zeros((1, 1, len(chars) + 2), dtype = \"float32\")"
   ]
  },
  {
   "cell_type": "code",
   "execution_count": 42,
   "metadata": {},
   "outputs": [],
   "source": [
    "target_seq[0,0,char_to_pos[\"\\t\"]] = 1"
   ]
  },
  {
   "cell_type": "code",
   "execution_count": 43,
   "metadata": {},
   "outputs": [
    {
     "data": {
      "text/plain": [
       "array([[[0., 0., 0., 0., 0., 0., 0., 0., 0., 0., 0., 0., 0., 0., 0., 0.,\n",
       "         0., 0., 0., 0., 0., 0., 0., 0., 0., 0., 0., 1., 0.]]],\n",
       "      dtype=float32)"
      ]
     },
     "execution_count": 43,
     "metadata": {},
     "output_type": "execute_result"
    }
   ],
   "source": [
    "target_seq"
   ]
  },
  {
   "cell_type": "code",
   "execution_count": 47,
   "metadata": {},
   "outputs": [],
   "source": [
    "output, (dec_state_a, dec_state_c)  = decoder_model.predict([target_seq, encoder_state_a, encoder_state_c], verbose = 0)"
   ]
  },
  {
   "cell_type": "code",
   "execution_count": 53,
   "metadata": {
    "scrolled": true
   },
   "outputs": [
    {
     "data": {
      "text/plain": [
       "0.98920584"
      ]
     },
     "execution_count": 53,
     "metadata": {},
     "output_type": "execute_result"
    }
   ],
   "source": [
    "np.max(output[0][0])"
   ]
  },
  {
   "cell_type": "code",
   "execution_count": 60,
   "metadata": {},
   "outputs": [],
   "source": [
    "predicted_char_idx = np.argmax(output[0][0])"
   ]
  },
  {
   "cell_type": "code",
   "execution_count": 57,
   "metadata": {
    "scrolled": false
   },
   "outputs": [
    {
     "data": {
      "text/plain": [
       "'p'"
      ]
     },
     "execution_count": 57,
     "metadata": {},
     "output_type": "execute_result"
    }
   ],
   "source": [
    "pos_to_char[np.argmax(output[0][0])]"
   ]
  },
  {
   "cell_type": "code",
   "execution_count": 61,
   "metadata": {},
   "outputs": [],
   "source": [
    "target_seq = np.zeros((1, 1, len(chars) + 2), dtype = \"float32\")\n",
    "target_seq[0,0,predicted_char_idx] = 1"
   ]
  },
  {
   "cell_type": "code",
   "execution_count": 62,
   "metadata": {},
   "outputs": [],
   "source": [
    "output, (dec_state_a, dec_state_c)  = decoder_model.predict([target_seq, dec_state_a, dec_state_c], verbose = 0)"
   ]
  },
  {
   "cell_type": "code",
   "execution_count": 63,
   "metadata": {},
   "outputs": [],
   "source": [
    "predicted_char_idx = np.argmax(output[0][0])"
   ]
  },
  {
   "cell_type": "code",
   "execution_count": 64,
   "metadata": {},
   "outputs": [
    {
     "data": {
      "text/plain": [
       "'r'"
      ]
     },
     "execution_count": 64,
     "metadata": {},
     "output_type": "execute_result"
    }
   ],
   "source": [
    "pos_to_char[predicted_char_idx]"
   ]
  },
  {
   "cell_type": "code",
   "execution_count": 67,
   "metadata": {},
   "outputs": [],
   "source": [
    "def spell_correction(word_list):\n",
    "    result = []  # Initialize an empty list to store the corrected words\n",
    "    for input_txt in word_list:  # Iterate over each word in the input word list\n",
    "        \n",
    "        \n",
    "        # Create an array of zeros to represent the input word in the correct format for the encoder model\n",
    "        enc_ip_data = np.zeros((1, max_enc_len, len(chars)), dtype = \"float32\")\n",
    "        \n",
    "        #Same way we have done in training phase\n",
    "        for each_col, each_char in enumerate(input_txt):  # Iterate over each character in the input word\n",
    "            # Set the corresponding index in the array to 1 to represent the character\n",
    "            enc_ip_data[0, each_col, char_to_pos[each_char]] = 1\n",
    "\n",
    "        # Predict the encoder states for the input word which will further feed to decode\n",
    "        encoder_state_a, encoder_state_c = encoder_model.predict(enc_ip_data, verbose = 0)\n",
    "        \n",
    "        # Initialize the target sequence with a start token\n",
    "        target_seq = np.zeros((1, 1, len(chars) + 2), dtype = \"float32\")\n",
    "        target_seq[0,0,char_to_pos[\"\\t\"]] = 1\n",
    "        flag = True  # Initialize a flag to control the decoding loop\n",
    "        decoded_sentence = \"\"  # Initialize an empty string to store the decoded word\n",
    "        \n",
    "        #Iterate unit flag is false --  if the end token is reached or the maximum decoder sequence length is exceeded\n",
    "        while flag: \n",
    "            # Predict the next character in the sequence using the decoder model\n",
    "            decoder_outputs, (decoder_state_a, decoder_state_c) = decoder_model.predict([target_seq, encoder_state_a, encoder_state_c], verbose = 0)\n",
    "            char_idx = np.argmax(decoder_outputs[0,0,:])  # Get the index of the predicted character\n",
    "            char = pos_to_char[char_idx]  # Get the character corresponding to the index\n",
    "            decoded_sentence += char  # Append the character to the decoded word\n",
    "\n",
    "            # Check if the end token is reached or the maximum decoder sequence length is exceeded\n",
    "            if char == \"\\n\" or len(decoded_sentence) > max_dec_len:\n",
    "                flag = False  # Set the flag to False to exit the decoding loop\n",
    "\n",
    "            # Update the target sequence for the next iteration\n",
    "            target_seq = np.zeros((1, 1, len(chars) + 2), dtype = \"float32\")\n",
    "            target_seq[0,0,char_idx] = 1\n",
    "            \n",
    "             # Update the encoder states for the next iteration\n",
    "            encoder_state_a, encoder_state_c = decoder_state_a, decoder_state_c \n",
    "        result.append(decoded_sentence.replace(\"\\n\", \"\"))  # Append the decoded word to the result list\n",
    "    return result  # Return the list of corrected words\n",
    "\n",
    "    "
   ]
  },
  {
   "cell_type": "code",
   "execution_count": 71,
   "metadata": {},
   "outputs": [
    {
     "data": {
      "text/plain": [
       "['information', 'price']"
      ]
     },
     "execution_count": 71,
     "metadata": {},
     "output_type": "execute_result"
    }
   ],
   "source": [
    "spell_correction([\"information\",\"price\"])"
   ]
  },
  {
   "cell_type": "code",
   "execution_count": null,
   "metadata": {},
   "outputs": [],
   "source": []
  }
 ],
 "metadata": {
  "kernelspec": {
   "display_name": "Python 3 (ipykernel)",
   "language": "python",
   "name": "python3"
  },
  "language_info": {
   "codemirror_mode": {
    "name": "ipython",
    "version": 3
   },
   "file_extension": ".py",
   "mimetype": "text/x-python",
   "name": "python",
   "nbconvert_exporter": "python",
   "pygments_lexer": "ipython3",
   "version": "3.9.13"
  }
 },
 "nbformat": 4,
 "nbformat_minor": 4
}
