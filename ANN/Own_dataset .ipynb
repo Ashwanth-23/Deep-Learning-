{
 "cells": [
  {
   "cell_type": "code",
   "execution_count": 1,
   "id": "78ed8935",
   "metadata": {},
   "outputs": [],
   "source": [
    "import cv2\n",
    "import numpy as np\n",
    "import pandas as pd"
   ]
  },
  {
   "cell_type": "markdown",
   "id": "55e188bb",
   "metadata": {},
   "source": [
    "### Creating own dataset using mouse click bar"
   ]
  },
  {
   "cell_type": "code",
   "execution_count": 9,
   "id": "28753b5b",
   "metadata": {},
   "outputs": [],
   "source": [
    "dataset = []\n",
    "def draw(event,x,y,flag,param):\n",
    "    if event == cv2.EVENT_FLAG_LBUTTON:\n",
    "        dataset.append((x,y,0))\n",
    "        cv2.circle(img,(x,y),5,(255,0,0),3)\n",
    "    if event == cv2.EVENT_FLAG_RBUTTON:\n",
    "        dataset.append((x,y,1))\n",
    "        cv2.circle(img,(x,y),5,(0,255,0),3) "
   ]
  },
  {
   "cell_type": "code",
   "execution_count": 10,
   "id": "693a1f13",
   "metadata": {},
   "outputs": [],
   "source": [
    "img = np.zeros((255,255,3),np.uint8)\n",
    "cv2.namedWindow(\"window name\",cv2.WINDOW_NORMAL)\n",
    "cv2.setMouseCallback(\"window name\",draw)\n",
    "\n",
    "while True:\n",
    "    cv2.imshow(\"window name\",img)\n",
    "    if cv2.waitKey(1) & 255 == ord (\"q\"):\n",
    "        break\n",
    "cv2.destroyAllWindows()"
   ]
  },
  {
   "cell_type": "markdown",
   "id": "3bbe3b0f",
   "metadata": {},
   "source": [
    "### Creating DataFrame "
   ]
  },
  {
   "cell_type": "code",
   "execution_count": 11,
   "id": "97fc9061",
   "metadata": {},
   "outputs": [],
   "source": [
    "df = pd.DataFrame(dataset)"
   ]
  },
  {
   "cell_type": "code",
   "execution_count": 12,
   "id": "6decf6ad",
   "metadata": {},
   "outputs": [
    {
     "data": {
      "text/html": [
       "<div>\n",
       "<style scoped>\n",
       "    .dataframe tbody tr th:only-of-type {\n",
       "        vertical-align: middle;\n",
       "    }\n",
       "\n",
       "    .dataframe tbody tr th {\n",
       "        vertical-align: top;\n",
       "    }\n",
       "\n",
       "    .dataframe thead th {\n",
       "        text-align: right;\n",
       "    }\n",
       "</style>\n",
       "<table border=\"1\" class=\"dataframe\">\n",
       "  <thead>\n",
       "    <tr style=\"text-align: right;\">\n",
       "      <th></th>\n",
       "      <th>0</th>\n",
       "      <th>1</th>\n",
       "      <th>2</th>\n",
       "    </tr>\n",
       "  </thead>\n",
       "  <tbody>\n",
       "    <tr>\n",
       "      <th>0</th>\n",
       "      <td>19</td>\n",
       "      <td>22</td>\n",
       "      <td>0</td>\n",
       "    </tr>\n",
       "    <tr>\n",
       "      <th>1</th>\n",
       "      <td>21</td>\n",
       "      <td>34</td>\n",
       "      <td>0</td>\n",
       "    </tr>\n",
       "    <tr>\n",
       "      <th>2</th>\n",
       "      <td>38</td>\n",
       "      <td>46</td>\n",
       "      <td>0</td>\n",
       "    </tr>\n",
       "    <tr>\n",
       "      <th>3</th>\n",
       "      <td>42</td>\n",
       "      <td>33</td>\n",
       "      <td>0</td>\n",
       "    </tr>\n",
       "    <tr>\n",
       "      <th>4</th>\n",
       "      <td>22</td>\n",
       "      <td>20</td>\n",
       "      <td>0</td>\n",
       "    </tr>\n",
       "    <tr>\n",
       "      <th>...</th>\n",
       "      <td>...</td>\n",
       "      <td>...</td>\n",
       "      <td>...</td>\n",
       "    </tr>\n",
       "    <tr>\n",
       "      <th>442</th>\n",
       "      <td>234</td>\n",
       "      <td>109</td>\n",
       "      <td>1</td>\n",
       "    </tr>\n",
       "    <tr>\n",
       "      <th>443</th>\n",
       "      <td>254</td>\n",
       "      <td>94</td>\n",
       "      <td>1</td>\n",
       "    </tr>\n",
       "    <tr>\n",
       "      <th>444</th>\n",
       "      <td>194</td>\n",
       "      <td>103</td>\n",
       "      <td>1</td>\n",
       "    </tr>\n",
       "    <tr>\n",
       "      <th>445</th>\n",
       "      <td>210</td>\n",
       "      <td>115</td>\n",
       "      <td>1</td>\n",
       "    </tr>\n",
       "    <tr>\n",
       "      <th>446</th>\n",
       "      <td>188</td>\n",
       "      <td>118</td>\n",
       "      <td>1</td>\n",
       "    </tr>\n",
       "  </tbody>\n",
       "</table>\n",
       "<p>447 rows × 3 columns</p>\n",
       "</div>"
      ],
      "text/plain": [
       "       0    1  2\n",
       "0     19   22  0\n",
       "1     21   34  0\n",
       "2     38   46  0\n",
       "3     42   33  0\n",
       "4     22   20  0\n",
       "..   ...  ... ..\n",
       "442  234  109  1\n",
       "443  254   94  1\n",
       "444  194  103  1\n",
       "445  210  115  1\n",
       "446  188  118  1\n",
       "\n",
       "[447 rows x 3 columns]"
      ]
     },
     "execution_count": 12,
     "metadata": {},
     "output_type": "execute_result"
    }
   ],
   "source": [
    "df"
   ]
  },
  {
   "cell_type": "code",
   "execution_count": 14,
   "id": "8594de9a",
   "metadata": {},
   "outputs": [],
   "source": [
    "df.rename(columns = {0: \"x\" , 1: \"y\",2:\"label\"},inplace = True)"
   ]
  },
  {
   "cell_type": "code",
   "execution_count": 15,
   "id": "9667204c",
   "metadata": {},
   "outputs": [
    {
     "data": {
      "text/html": [
       "<div>\n",
       "<style scoped>\n",
       "    .dataframe tbody tr th:only-of-type {\n",
       "        vertical-align: middle;\n",
       "    }\n",
       "\n",
       "    .dataframe tbody tr th {\n",
       "        vertical-align: top;\n",
       "    }\n",
       "\n",
       "    .dataframe thead th {\n",
       "        text-align: right;\n",
       "    }\n",
       "</style>\n",
       "<table border=\"1\" class=\"dataframe\">\n",
       "  <thead>\n",
       "    <tr style=\"text-align: right;\">\n",
       "      <th></th>\n",
       "      <th>x</th>\n",
       "      <th>y</th>\n",
       "      <th>label</th>\n",
       "    </tr>\n",
       "  </thead>\n",
       "  <tbody>\n",
       "    <tr>\n",
       "      <th>0</th>\n",
       "      <td>19</td>\n",
       "      <td>22</td>\n",
       "      <td>0</td>\n",
       "    </tr>\n",
       "    <tr>\n",
       "      <th>1</th>\n",
       "      <td>21</td>\n",
       "      <td>34</td>\n",
       "      <td>0</td>\n",
       "    </tr>\n",
       "    <tr>\n",
       "      <th>2</th>\n",
       "      <td>38</td>\n",
       "      <td>46</td>\n",
       "      <td>0</td>\n",
       "    </tr>\n",
       "    <tr>\n",
       "      <th>3</th>\n",
       "      <td>42</td>\n",
       "      <td>33</td>\n",
       "      <td>0</td>\n",
       "    </tr>\n",
       "    <tr>\n",
       "      <th>4</th>\n",
       "      <td>22</td>\n",
       "      <td>20</td>\n",
       "      <td>0</td>\n",
       "    </tr>\n",
       "  </tbody>\n",
       "</table>\n",
       "</div>"
      ],
      "text/plain": [
       "    x   y  label\n",
       "0  19  22      0\n",
       "1  21  34      0\n",
       "2  38  46      0\n",
       "3  42  33      0\n",
       "4  22  20      0"
      ]
     },
     "execution_count": 15,
     "metadata": {},
     "output_type": "execute_result"
    }
   ],
   "source": [
    "df.head()"
   ]
  },
  {
   "cell_type": "markdown",
   "id": "4f9da618",
   "metadata": {},
   "source": [
    "### Saving dataset as csv file"
   ]
  },
  {
   "cell_type": "code",
   "execution_count": 17,
   "id": "7877bdaf",
   "metadata": {},
   "outputs": [],
   "source": [
    "df.to_csv('own_dataset.csv', index=False)"
   ]
  },
  {
   "cell_type": "code",
   "execution_count": 4,
   "id": "b4f36e70",
   "metadata": {},
   "outputs": [
    {
     "data": {
      "text/html": [
       "<div>\n",
       "<style scoped>\n",
       "    .dataframe tbody tr th:only-of-type {\n",
       "        vertical-align: middle;\n",
       "    }\n",
       "\n",
       "    .dataframe tbody tr th {\n",
       "        vertical-align: top;\n",
       "    }\n",
       "\n",
       "    .dataframe thead th {\n",
       "        text-align: right;\n",
       "    }\n",
       "</style>\n",
       "<table border=\"1\" class=\"dataframe\">\n",
       "  <thead>\n",
       "    <tr style=\"text-align: right;\">\n",
       "      <th></th>\n",
       "      <th>x</th>\n",
       "      <th>y</th>\n",
       "      <th>label</th>\n",
       "    </tr>\n",
       "  </thead>\n",
       "  <tbody>\n",
       "    <tr>\n",
       "      <th>0</th>\n",
       "      <td>19</td>\n",
       "      <td>22</td>\n",
       "      <td>0</td>\n",
       "    </tr>\n",
       "    <tr>\n",
       "      <th>1</th>\n",
       "      <td>21</td>\n",
       "      <td>34</td>\n",
       "      <td>0</td>\n",
       "    </tr>\n",
       "    <tr>\n",
       "      <th>2</th>\n",
       "      <td>38</td>\n",
       "      <td>46</td>\n",
       "      <td>0</td>\n",
       "    </tr>\n",
       "    <tr>\n",
       "      <th>3</th>\n",
       "      <td>42</td>\n",
       "      <td>33</td>\n",
       "      <td>0</td>\n",
       "    </tr>\n",
       "    <tr>\n",
       "      <th>4</th>\n",
       "      <td>22</td>\n",
       "      <td>20</td>\n",
       "      <td>0</td>\n",
       "    </tr>\n",
       "  </tbody>\n",
       "</table>\n",
       "</div>"
      ],
      "text/plain": [
       "    x   y  label\n",
       "0  19  22      0\n",
       "1  21  34      0\n",
       "2  38  46      0\n",
       "3  42  33      0\n",
       "4  22  20      0"
      ]
     },
     "execution_count": 4,
     "metadata": {},
     "output_type": "execute_result"
    }
   ],
   "source": [
    "df = pd.read_csv(r\"own_dataset.csv\")\n",
    "df.head()"
   ]
  },
  {
   "cell_type": "code",
   "execution_count": 5,
   "id": "8ccb2104",
   "metadata": {},
   "outputs": [
    {
     "name": "stdout",
     "output_type": "stream",
     "text": [
      "<class 'pandas.core.frame.DataFrame'>\n",
      "RangeIndex: 447 entries, 0 to 446\n",
      "Data columns (total 3 columns):\n",
      " #   Column  Non-Null Count  Dtype\n",
      "---  ------  --------------  -----\n",
      " 0   x       447 non-null    int64\n",
      " 1   y       447 non-null    int64\n",
      " 2   label   447 non-null    int64\n",
      "dtypes: int64(3)\n",
      "memory usage: 10.6 KB\n"
     ]
    }
   ],
   "source": [
    "df.info()\n"
   ]
  },
  {
   "cell_type": "code",
   "execution_count": 6,
   "id": "371b9487",
   "metadata": {},
   "outputs": [
    {
     "data": {
      "text/plain": [
       "0    234\n",
       "1    213\n",
       "Name: label, dtype: int64"
      ]
     },
     "execution_count": 6,
     "metadata": {},
     "output_type": "execute_result"
    }
   ],
   "source": [
    "# Checking whether Target feature is balanced or not\n",
    "df['label'].value_counts()"
   ]
  },
  {
   "cell_type": "markdown",
   "id": "9799dcd2",
   "metadata": {},
   "source": [
    "### Identifying Input and Output features"
   ]
  },
  {
   "cell_type": "code",
   "execution_count": 7,
   "id": "dd3d2dcd",
   "metadata": {},
   "outputs": [],
   "source": [
    "# Input features \n",
    "x = df.iloc[:,0:2]\n",
    "\n",
    "# Output feature\n",
    "y = df.iloc[:,2].astype(int)\n"
   ]
  },
  {
   "cell_type": "code",
   "execution_count": 8,
   "id": "ae0f1de9",
   "metadata": {},
   "outputs": [
    {
     "data": {
      "text/html": [
       "<div>\n",
       "<style scoped>\n",
       "    .dataframe tbody tr th:only-of-type {\n",
       "        vertical-align: middle;\n",
       "    }\n",
       "\n",
       "    .dataframe tbody tr th {\n",
       "        vertical-align: top;\n",
       "    }\n",
       "\n",
       "    .dataframe thead th {\n",
       "        text-align: right;\n",
       "    }\n",
       "</style>\n",
       "<table border=\"1\" class=\"dataframe\">\n",
       "  <thead>\n",
       "    <tr style=\"text-align: right;\">\n",
       "      <th></th>\n",
       "      <th>x</th>\n",
       "      <th>y</th>\n",
       "    </tr>\n",
       "  </thead>\n",
       "  <tbody>\n",
       "    <tr>\n",
       "      <th>0</th>\n",
       "      <td>19</td>\n",
       "      <td>22</td>\n",
       "    </tr>\n",
       "    <tr>\n",
       "      <th>1</th>\n",
       "      <td>21</td>\n",
       "      <td>34</td>\n",
       "    </tr>\n",
       "    <tr>\n",
       "      <th>2</th>\n",
       "      <td>38</td>\n",
       "      <td>46</td>\n",
       "    </tr>\n",
       "    <tr>\n",
       "      <th>3</th>\n",
       "      <td>42</td>\n",
       "      <td>33</td>\n",
       "    </tr>\n",
       "    <tr>\n",
       "      <th>4</th>\n",
       "      <td>22</td>\n",
       "      <td>20</td>\n",
       "    </tr>\n",
       "  </tbody>\n",
       "</table>\n",
       "</div>"
      ],
      "text/plain": [
       "    x   y\n",
       "0  19  22\n",
       "1  21  34\n",
       "2  38  46\n",
       "3  42  33\n",
       "4  22  20"
      ]
     },
     "execution_count": 8,
     "metadata": {},
     "output_type": "execute_result"
    }
   ],
   "source": [
    "x.head()"
   ]
  },
  {
   "cell_type": "code",
   "execution_count": 9,
   "id": "6fb1c50a",
   "metadata": {},
   "outputs": [
    {
     "data": {
      "text/plain": [
       "0    0\n",
       "1    0\n",
       "2    0\n",
       "3    0\n",
       "4    0\n",
       "Name: label, dtype: int32"
      ]
     },
     "execution_count": 9,
     "metadata": {},
     "output_type": "execute_result"
    }
   ],
   "source": [
    "y.head()"
   ]
  },
  {
   "cell_type": "markdown",
   "id": "8fe834d8",
   "metadata": {},
   "source": [
    "### Splitting into train and test"
   ]
  },
  {
   "cell_type": "code",
   "execution_count": 10,
   "id": "2120c0d4",
   "metadata": {},
   "outputs": [
    {
     "name": "stderr",
     "output_type": "stream",
     "text": [
      "C:\\Users\\ADMIN\\anaconda3\\lib\\site-packages\\scipy\\__init__.py:155: UserWarning: A NumPy version >=1.18.5 and <1.25.0 is required for this version of SciPy (detected version 1.26.0\n",
      "  warnings.warn(f\"A NumPy version >={np_minversion} and <{np_maxversion}\"\n"
     ]
    }
   ],
   "source": [
    " from sklearn.model_selection import train_test_split\n",
    "x_train,x_test,y_train,y_test = train_test_split(x,y,test_size=0.15)"
   ]
  },
  {
   "cell_type": "code",
   "execution_count": 11,
   "id": "9b2c6137",
   "metadata": {},
   "outputs": [
    {
     "data": {
      "text/plain": [
       "(379, 2)"
      ]
     },
     "execution_count": 11,
     "metadata": {},
     "output_type": "execute_result"
    }
   ],
   "source": [
    "x_train.shape\n"
   ]
  },
  {
   "cell_type": "code",
   "execution_count": 12,
   "id": "a9348709",
   "metadata": {},
   "outputs": [
    {
     "data": {
      "text/plain": [
       "(68, 2)"
      ]
     },
     "execution_count": 12,
     "metadata": {},
     "output_type": "execute_result"
    }
   ],
   "source": [
    "x_test.shape"
   ]
  },
  {
   "cell_type": "markdown",
   "id": "0df2b923",
   "metadata": {},
   "source": [
    "### Standardizing numerical features"
   ]
  },
  {
   "cell_type": "code",
   "execution_count": 13,
   "id": "7cf6be5b",
   "metadata": {},
   "outputs": [],
   "source": [
    "# As it is Numerical features in different scaling therefore applying Standardization\n",
    "from sklearn.preprocessing import StandardScaler\n",
    "std = StandardScaler()\n",
    "x_trainp = std.fit_transform(x_train)\n",
    "x_testp = std.transform(x_test)"
   ]
  },
  {
   "cell_type": "markdown",
   "id": "4d25482e",
   "metadata": {},
   "source": [
    "### Building Logical structure"
   ]
  },
  {
   "cell_type": "code",
   "execution_count": 26,
   "id": "ee705add",
   "metadata": {},
   "outputs": [],
   "source": [
    "import keras\n",
    "from keras import Sequential\n",
    "from keras.layers import Dense,Dropout,BatchNormalization\n",
    "from keras.regularizers import L1,L2,L1L2\n",
    "from keras.optimizers import SGD\n",
    "import matplotlib.pyplot as plt"
   ]
  },
  {
   "cell_type": "code",
   "execution_count": 29,
   "id": "a4ef25b4",
   "metadata": {},
   "outputs": [],
   "source": [
    "model = Sequential()\n",
    "model.add(Dense(10,activation='relu',kernel_regularizer=L2(0.001),bias_regularizer=L2(0.001),input_dim = 2))\n",
    "model.add(Dense(8,activation='relu',kernel_regularizer=L2(0.001),bias_regularizer=L2(0.001)))\n",
    "model.add(Dense(1,activation='sigmoid',kernel_regularizer=L2(0.001),bias_regularizer=L2(0.001))) \n"
   ]
  },
  {
   "cell_type": "markdown",
   "id": "fd6281d7",
   "metadata": {},
   "source": [
    "### Observation \n",
    "\n",
    "#. Here i have used the relu activation Funation to aviod the Negative(-ve) values.                                             \n",
    "#. Regularization is used as Lasso with 0.001 Learning rate.                                                                     \n",
    "#. As traget variable contains binary class, In output layer i have used the sigmoid activatio function"
   ]
  },
  {
   "cell_type": "code",
   "execution_count": 30,
   "id": "a1d136fa",
   "metadata": {},
   "outputs": [
    {
     "name": "stdout",
     "output_type": "stream",
     "text": [
      "Model: \"sequential_1\"\n",
      "_________________________________________________________________\n",
      " Layer (type)                Output Shape              Param #   \n",
      "=================================================================\n",
      " dense_3 (Dense)             (None, 10)                30        \n",
      "                                                                 \n",
      " dense_4 (Dense)             (None, 8)                 88        \n",
      "                                                                 \n",
      " dense_5 (Dense)             (None, 1)                 9         \n",
      "                                                                 \n",
      "=================================================================\n",
      "Total params: 127 (508.00 Byte)\n",
      "Trainable params: 127 (508.00 Byte)\n",
      "Non-trainable params: 0 (0.00 Byte)\n",
      "_________________________________________________________________\n"
     ]
    }
   ],
   "source": [
    "model.summary()"
   ]
  },
  {
   "cell_type": "markdown",
   "id": "6d559a8d",
   "metadata": {},
   "source": [
    "### compiling the model "
   ]
  },
  {
   "cell_type": "code",
   "execution_count": 31,
   "id": "76157d45",
   "metadata": {},
   "outputs": [
    {
     "name": "stdout",
     "output_type": "stream",
     "text": [
      "Epoch 1/20\n",
      "23/23 [==============================] - 1s 19ms/step - loss: 0.6768 - accuracy: 0.6393 - val_loss: 0.5746 - val_accuracy: 0.9474\n",
      "Epoch 2/20\n",
      "23/23 [==============================] - 0s 5ms/step - loss: 0.5428 - accuracy: 0.9179 - val_loss: 0.4559 - val_accuracy: 0.8947\n",
      "Epoch 3/20\n",
      "23/23 [==============================] - 0s 7ms/step - loss: 0.4072 - accuracy: 0.9238 - val_loss: 0.3413 - val_accuracy: 0.9211\n",
      "Epoch 4/20\n",
      "23/23 [==============================] - 0s 5ms/step - loss: 0.2989 - accuracy: 0.9326 - val_loss: 0.2688 - val_accuracy: 0.9211\n",
      "Epoch 5/20\n",
      "23/23 [==============================] - 0s 5ms/step - loss: 0.2350 - accuracy: 0.9443 - val_loss: 0.2304 - val_accuracy: 0.9211\n",
      "Epoch 6/20\n",
      "23/23 [==============================] - 0s 5ms/step - loss: 0.2066 - accuracy: 0.9355 - val_loss: 0.2095 - val_accuracy: 0.9211\n",
      "Epoch 7/20\n",
      "23/23 [==============================] - 0s 6ms/step - loss: 0.1913 - accuracy: 0.9355 - val_loss: 0.1935 - val_accuracy: 0.9211\n",
      "Epoch 8/20\n",
      "23/23 [==============================] - 0s 6ms/step - loss: 0.1797 - accuracy: 0.9472 - val_loss: 0.1803 - val_accuracy: 0.9211\n",
      "Epoch 9/20\n",
      "23/23 [==============================] - 0s 6ms/step - loss: 0.1727 - accuracy: 0.9384 - val_loss: 0.1679 - val_accuracy: 0.9474\n",
      "Epoch 10/20\n",
      "23/23 [==============================] - 0s 6ms/step - loss: 0.1695 - accuracy: 0.9355 - val_loss: 0.1665 - val_accuracy: 0.9211\n",
      "Epoch 11/20\n",
      "23/23 [==============================] - 0s 6ms/step - loss: 0.1651 - accuracy: 0.9472 - val_loss: 0.1607 - val_accuracy: 0.9474\n",
      "Epoch 12/20\n",
      "23/23 [==============================] - 0s 5ms/step - loss: 0.1601 - accuracy: 0.9501 - val_loss: 0.1510 - val_accuracy: 0.9211\n",
      "Epoch 13/20\n",
      "23/23 [==============================] - 0s 5ms/step - loss: 0.1601 - accuracy: 0.9443 - val_loss: 0.1529 - val_accuracy: 0.9474\n",
      "Epoch 14/20\n",
      "23/23 [==============================] - 0s 5ms/step - loss: 0.1580 - accuracy: 0.9560 - val_loss: 0.1445 - val_accuracy: 0.9474\n",
      "Epoch 15/20\n",
      "23/23 [==============================] - 0s 7ms/step - loss: 0.1578 - accuracy: 0.9472 - val_loss: 0.1362 - val_accuracy: 0.9474\n",
      "Epoch 16/20\n",
      "23/23 [==============================] - 0s 7ms/step - loss: 0.1555 - accuracy: 0.9560 - val_loss: 0.1419 - val_accuracy: 0.9474\n",
      "Epoch 17/20\n",
      "23/23 [==============================] - 0s 5ms/step - loss: 0.1538 - accuracy: 0.9531 - val_loss: 0.1495 - val_accuracy: 0.9474\n",
      "Epoch 18/20\n",
      "23/23 [==============================] - 0s 5ms/step - loss: 0.1543 - accuracy: 0.9531 - val_loss: 0.1376 - val_accuracy: 0.9474\n",
      "Epoch 19/20\n",
      "23/23 [==============================] - 0s 6ms/step - loss: 0.1536 - accuracy: 0.9589 - val_loss: 0.1296 - val_accuracy: 0.9474\n",
      "Epoch 20/20\n",
      "23/23 [==============================] - 0s 5ms/step - loss: 0.1528 - accuracy: 0.9560 - val_loss: 0.1304 - val_accuracy: 0.9474\n"
     ]
    }
   ],
   "source": [
    "model.compile(loss='binary_crossentropy',optimizer = SGD(learning_rate=0.1),metrics = ['accuracy'])\n",
    "his = model.fit(x_trainp,y_train,batch_size=15,epochs = 20,validation_split=0.1)"
   ]
  },
  {
   "cell_type": "code",
   "execution_count": 32,
   "id": "dd0baac4",
   "metadata": {},
   "outputs": [
    {
     "data": {
      "text/plain": [
       "<matplotlib.legend.Legend at 0x1647f61fd60>"
      ]
     },
     "execution_count": 32,
     "metadata": {},
     "output_type": "execute_result"
    },
    {
     "data": {
      "image/png": "[encoded data removed]",
      "text/plain": [
       "<Figure size 640x480 with 1 Axes>"
      ]
     },
     "metadata": {},
     "output_type": "display_data"
    }
   ],
   "source": [
    "# Plotting train Loss and validation loss\n",
    "plt.plot(range(1,21),his.history[\"loss\"], label = 'Traning')\n",
    "plt.plot(range(1,21),his.history[\"val_loss\"],label = 'Validation')\n",
    "plt.legend()"
   ]
  },
  {
   "cell_type": "markdown",
   "id": "c6d432be",
   "metadata": {},
   "source": [
    "### Predicting the model"
   ]
  },
  {
   "cell_type": "code",
   "execution_count": 33,
   "id": "01b6fdc2",
   "metadata": {},
   "outputs": [
    {
     "name": "stdout",
     "output_type": "stream",
     "text": [
      "3/3 [==============================] - 0s 5ms/step\n"
     ]
    }
   ],
   "source": [
    "predicted = model.predict(x_testp)\n",
    "predicted = np.where(predicted>0.5,1,0)\n"
   ]
  },
  {
   "cell_type": "code",
   "execution_count": 34,
   "id": "34c2afa3",
   "metadata": {},
   "outputs": [
    {
     "data": {
      "text/plain": [
       "array([[1],\n",
       "       [0],\n",
       "       [1],\n",
       "       [0],\n",
       "       [1],\n",
       "       [0],\n",
       "       [1],\n",
       "       [1],\n",
       "       [1],\n",
       "       [1],\n",
       "       [0],\n",
       "       [1],\n",
       "       [0],\n",
       "       [0],\n",
       "       [0],\n",
       "       [1],\n",
       "       [0],\n",
       "       [0],\n",
       "       [1],\n",
       "       [1],\n",
       "       [1],\n",
       "       [1],\n",
       "       [1],\n",
       "       [0],\n",
       "       [0],\n",
       "       [0],\n",
       "       [1],\n",
       "       [0],\n",
       "       [1],\n",
       "       [1],\n",
       "       [0],\n",
       "       [1],\n",
       "       [1],\n",
       "       [0],\n",
       "       [0],\n",
       "       [1],\n",
       "       [0],\n",
       "       [1],\n",
       "       [0],\n",
       "       [1],\n",
       "       [0],\n",
       "       [0],\n",
       "       [0],\n",
       "       [1],\n",
       "       [0],\n",
       "       [0],\n",
       "       [1],\n",
       "       [0],\n",
       "       [0],\n",
       "       [0],\n",
       "       [1],\n",
       "       [0],\n",
       "       [0],\n",
       "       [0],\n",
       "       [1],\n",
       "       [0],\n",
       "       [0],\n",
       "       [1],\n",
       "       [1],\n",
       "       [1],\n",
       "       [0],\n",
       "       [1],\n",
       "       [0],\n",
       "       [0],\n",
       "       [0],\n",
       "       [0],\n",
       "       [1],\n",
       "       [0]])"
      ]
     },
     "execution_count": 34,
     "metadata": {},
     "output_type": "execute_result"
    }
   ],
   "source": [
    "predicted"
   ]
  },
  {
   "cell_type": "markdown",
   "id": "c13d0dd3",
   "metadata": {},
   "source": [
    "### Evaluating the Model"
   ]
  },
  {
   "cell_type": "code",
   "execution_count": 36,
   "id": "4cd87bad",
   "metadata": {},
   "outputs": [
    {
     "name": "stdout",
     "output_type": "stream",
     "text": [
      "0.9264705882352942\n"
     ]
    }
   ],
   "source": [
    "from sklearn.metrics import accuracy_score,confusion_matrix,ConfusionMatrixDisplay\n",
    "print(accuracy_score(y_test,predicted))  \n"
   ]
  },
  {
   "cell_type": "code",
   "execution_count": 37,
   "id": "3199469e",
   "metadata": {},
   "outputs": [
    {
     "data": {
      "image/png": "[encoded data removed]",
      "text/plain": [
       "<Figure size 640x480 with 2 Axes>"
      ]
     },
     "metadata": {},
     "output_type": "display_data"
    }
   ],
   "source": [
    "cm=confusion_matrix(y_test,predicted)\n",
    "va=ConfusionMatrixDisplay(cm)\n",
    "va.plot() \n",
    "plt.show()\n"
   ]
  },
  {
   "cell_type": "markdown",
   "id": "c136bcf3",
   "metadata": {},
   "source": [
    "### plotting the decision surface "
   ]
  },
  {
   "cell_type": "code",
   "execution_count": 42,
   "id": "c3e16036",
   "metadata": {},
   "outputs": [],
   "source": [
    "from mlxtend.plotting import plot_decision_regions\n"
   ]
  },
  {
   "cell_type": "code",
   "execution_count": 43,
   "id": "3ced50f3",
   "metadata": {},
   "outputs": [
    {
     "name": "stdout",
     "output_type": "stream",
     "text": [
      "9600/9600 [==============================] - 24s 2ms/step\n"
     ]
    },
    {
     "data": {
      "text/plain": [
       "<AxesSubplot:>"
      ]
     },
     "execution_count": 43,
     "metadata": {},
     "output_type": "execute_result"
    },
    {
     "data": {
      "image/png": "[encoded data removed]",
      "text/plain": [
       "<Figure size 640x480 with 1 Axes>"
      ]
     },
     "metadata": {},
     "output_type": "display_data"
    }
   ],
   "source": [
    "plot_decision_regions(x_trainp,y_train.values,clf = model)\n"
   ]
  },
  {
   "cell_type": "code",
   "execution_count": 44,
   "id": "e0344906",
   "metadata": {},
   "outputs": [
    {
     "name": "stdout",
     "output_type": "stream",
     "text": [
      "9600/9600 [==============================] - 22s 2ms/step\n"
     ]
    },
    {
     "data": {
      "text/plain": [
       "<AxesSubplot:>"
      ]
     },
     "execution_count": 44,
     "metadata": {},
     "output_type": "execute_result"
    },
    {
     "data": {
      "image/png": "[encoded data removed]",
      "text/plain": [
       "<Figure size 640x480 with 1 Axes>"
      ]
     },
     "metadata": {},
     "output_type": "display_data"
    }
   ],
   "source": [
    "plot_decision_regions(x_testp,y_test.values,clf=model)  \n"
   ]
  },
  {
   "cell_type": "markdown",
   "id": "50bfce7e",
   "metadata": {},
   "source": [
    "### Conclusions:\n",
    "> This neural network model achieves an accuracy of 92%.\n"
   ]
  },
  {
   "cell_type": "markdown",
   "id": "9bde5107",
   "metadata": {},
   "source": [
    "### The model architecture consists of 2 hidden layers as following:\n",
    ">In the first hidden layer, there are 10 neurons with the relu activation function\n",
    "\n",
    ">In the second hidden layer, there are 8 neurons with the relu activation function\n",
    "\n",
    ">The output layer uses the sigmoid activation function.\n",
    "\n",
    "\n"
   ]
  },
  {
   "cell_type": "markdown",
   "id": "6e8a5393",
   "metadata": {},
   "source": [
    "### In model compilation,\n",
    "> Loss function is Binary cross-entropy.     \n",
    "\n",
    "\n",
    "> Optimizer: Stochastic Gradient Descent (SGD) with a batch size of 15 and a learning rate of 0.001.                             \n",
    "\n",
    "\n",
    ">The model was trained for 20 epochs.                                                                                            \n",
    " "
   ]
  },
  {
   "cell_type": "code",
   "execution_count": null,
   "id": "87feb0d1",
   "metadata": {},
   "outputs": [],
   "source": []
  }
 ],
 "metadata": {
  "kernelspec": {
   "display_name": "Python 3 (ipykernel)",
   "language": "python",
   "name": "python3"
  },
  "language_info": {
   "codemirror_mode": {
    "name": "ipython",
    "version": 3
   },
   "file_extension": ".py",
   "mimetype": "text/x-python",
   "name": "python",
   "nbconvert_exporter": "python",
   "pygments_lexer": "ipython3",
   "version": "3.9.13"
  }
 },
 "nbformat": 4,
 "nbformat_minor": 5
}
