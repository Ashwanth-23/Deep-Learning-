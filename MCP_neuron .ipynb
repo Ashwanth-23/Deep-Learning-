{
 "cells": [
  {
   "cell_type": "markdown",
   "id": "8bcaa78a",
   "metadata": {},
   "source": [
    "### Create a MCP based neuron with the help of (Functions or Class) Here your activation function should be and,or\n"
   ]
  },
  {
   "cell_type": "code",
   "execution_count": 16,
   "id": "190d7ec6",
   "metadata": {},
   "outputs": [
    {
     "name": "stdout",
     "output_type": "stream",
     "text": [
      "The result of and activation function : 0\n",
      "The result of or activation function : 1\n"
     ]
    }
   ],
   "source": [
    "class Mcp_Neuron():\n",
    "    \n",
    "    def __init__(self, act_func): # initialize the class with activation function\n",
    "        self.act_func = act_func\n",
    "    def activation_func(self, *inputs):\n",
    "        if self.act_func == \"and\":\n",
    "            if int(all(inputs)):\n",
    "                return 1\n",
    "            else :\n",
    "                return 0\n",
    "        \n",
    "        if self.act_func == \"or\":\n",
    "            if int(any(inputs)):\n",
    "                return 1\n",
    "            else :\n",
    "                return 0\n",
    "\n",
    "and_act_func = Mcp_Neuron(act_func=\"and\") # creating object for Mcp Neuron class with activatiob function as and\n",
    "\n",
    "\n",
    "or_act_func = Mcp_Neuron(act_func=\"or\")   # creating object for Mcp Neuron class with activatiob function as or \n",
    "\n",
    "and_func_res = and_act_func.activation_func(1,0,1)\n",
    "\n",
    "\n",
    "or_func_res = or_act_func.activation_func(1,0,1)  #activation function\n",
    "\n",
    "\n",
    "print(f'The result of and activation function : {and_func_res}')\n",
    "\n",
    "print(f'The result of or activation function : {or_func_res}')\n"
   ]
  },
  {
   "cell_type": "code",
   "execution_count": null,
   "id": "dbf61bfe",
   "metadata": {},
   "outputs": [],
   "source": []
  }
 ],
 "metadata": {
  "kernelspec": {
   "display_name": "Python 3 (ipykernel)",
   "language": "python",
   "name": "python3"
  },
  "language_info": {
   "codemirror_mode": {
    "name": "ipython",
    "version": 3
   },
   "file_extension": ".py",
   "mimetype": "text/x-python",
   "name": "python",
   "nbconvert_exporter": "python",
   "pygments_lexer": "ipython3",
   "version": "3.9.13"
  }
 },
 "nbformat": 4,
 "nbformat_minor": 5
}
